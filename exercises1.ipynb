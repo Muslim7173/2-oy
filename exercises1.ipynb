{
 "cells": [
  {
   "cell_type": "code",
   "execution_count": 64,
   "metadata": {},
   "outputs": [],
   "source": [
    "import pandas as pd\n",
    "import numpy as np \n",
    "from sklearn.preprocessing import LabelEncoder, StandardScaler\n",
    "from sklearn.model_selection import train_test_split\n",
    "from sklearn.linear_model import LinearRegression\n",
    "from sklearn.tree import DecisionTreeRegressor\n",
    "from sklearn.metrics import mean_squared_error, r2_score"
   ]
  },
  {
   "cell_type": "code",
   "execution_count": 65,
   "metadata": {},
   "outputs": [],
   "source": [
    "#df=pd.read_csv('application_record.csv.zip')"
   ]
  },
  {
   "cell_type": "code",
   "execution_count": 66,
   "metadata": {},
   "outputs": [],
   "source": [
    "#df.head()"
   ]
  },
  {
   "cell_type": "code",
   "execution_count": 67,
   "metadata": {},
   "outputs": [],
   "source": [
    "#df.info()"
   ]
  },
  {
   "cell_type": "code",
   "execution_count": 68,
   "metadata": {},
   "outputs": [],
   "source": [
    "#df.isnull().sum()"
   ]
  },
  {
   "cell_type": "code",
   "execution_count": 69,
   "metadata": {},
   "outputs": [],
   "source": [
    "#df['OCCUPATION_TYPE'].fillna(df['OCCUPATION_TYPE'].mode()[0], inplace=True)\n"
   ]
  },
  {
   "cell_type": "code",
   "execution_count": 70,
   "metadata": {},
   "outputs": [],
   "source": [
    "#df.info()"
   ]
  },
  {
   "cell_type": "markdown",
   "metadata": {},
   "source": [
    "#encoding"
   ]
  },
  {
   "cell_type": "code",
   "execution_count": 71,
   "metadata": {},
   "outputs": [],
   "source": [
    "cardinality = df.nunique()"
   ]
  },
  {
   "cell_type": "code",
   "execution_count": 72,
   "metadata": {},
   "outputs": [
    {
     "data": {
      "text/plain": [
       "id                                                   438510\n",
       "cnt_children                                             12\n",
       "amt_income_total                                        866\n",
       "name_housing_type                                         6\n",
       "days_birth                                            16379\n",
       "days_employed                                          9406\n",
       "flag_work_phone                                           2\n",
       "flag_phone                                                2\n",
       "flag_email                                                2\n",
       "occupation_type                                          18\n",
       "cnt_fam_members                                          13\n",
       "code_gender_M                                             2\n",
       "flag_own_car_Y                                            2\n",
       "flag_own_realty_Y                                         2\n",
       "name_income_type_Pensioner                                2\n",
       "name_income_type_State servant                            2\n",
       "name_income_type_Student                                  2\n",
       "name_income_type_Working                                  2\n",
       "name_education_type_Higher education                      2\n",
       "name_education_type_Incomplete higher                     2\n",
       "name_education_type_Lower secondary                       2\n",
       "name_education_type_Secondary / secondary special         2\n",
       "name_family_status_Married                                2\n",
       "name_family_status_Separated                              2\n",
       "name_family_status_Single / not married                   2\n",
       "name_family_status_Widow                                  2\n",
       "dtype: int64"
      ]
     },
     "execution_count": 72,
     "metadata": {},
     "output_type": "execute_result"
    }
   ],
   "source": [
    "cardinality"
   ]
  },
  {
   "cell_type": "code",
   "execution_count": 73,
   "metadata": {},
   "outputs": [
    {
     "name": "stdout",
     "output_type": "stream",
     "text": [
      "<class 'pandas.core.frame.DataFrame'>\n",
      "RangeIndex: 438557 entries, 0 to 438556\n",
      "Data columns (total 26 columns):\n",
      " #   Column                                             Non-Null Count   Dtype  \n",
      "---  ------                                             --------------   -----  \n",
      " 0   id                                                 438557 non-null  float64\n",
      " 1   cnt_children                                       438557 non-null  int8   \n",
      " 2   amt_income_total                                   438557 non-null  float64\n",
      " 3   name_housing_type                                  438557 non-null  float64\n",
      " 4   days_birth                                         438557 non-null  int16  \n",
      " 5   days_employed                                      438557 non-null  float64\n",
      " 6   flag_work_phone                                    438557 non-null  int8   \n",
      " 7   flag_phone                                         438557 non-null  int8   \n",
      " 8   flag_email                                         438557 non-null  int8   \n",
      " 9   occupation_type                                    438557 non-null  float64\n",
      " 10  cnt_fam_members                                    438557 non-null  float32\n",
      " 11  code_gender_M                                      438557 non-null  float64\n",
      " 12  flag_own_car_Y                                     438557 non-null  float64\n",
      " 13  flag_own_realty_Y                                  438557 non-null  float64\n",
      " 14  name_income_type_Pensioner                         438557 non-null  float64\n",
      " 15  name_income_type_State servant                     438557 non-null  float64\n",
      " 16  name_income_type_Student                           438557 non-null  float64\n",
      " 17  name_income_type_Working                           438557 non-null  float64\n",
      " 18  name_education_type_Higher education               438557 non-null  float64\n",
      " 19  name_education_type_Incomplete higher              438557 non-null  float64\n",
      " 20  name_education_type_Lower secondary                438557 non-null  float64\n",
      " 21  name_education_type_Secondary / secondary special  438557 non-null  float64\n",
      " 22  name_family_status_Married                         438557 non-null  float64\n",
      " 23  name_family_status_Separated                       438557 non-null  float64\n",
      " 24  name_family_status_Single / not married            438557 non-null  float64\n",
      " 25  name_family_status_Widow                           438557 non-null  float64\n",
      "dtypes: float32(1), float64(20), int16(1), int8(4)\n",
      "memory usage: 71.1 MB\n"
     ]
    }
   ],
   "source": [
    "df.info()"
   ]
  },
  {
   "cell_type": "code",
   "execution_count": 74,
   "metadata": {},
   "outputs": [],
   "source": [
    "num_col=df.select_dtypes(include=['int32','float64']).columns"
   ]
  },
  {
   "cell_type": "code",
   "execution_count": 75,
   "metadata": {},
   "outputs": [
    {
     "data": {
      "text/plain": [
       "Index(['id', 'amt_income_total', 'name_housing_type', 'days_employed',\n",
       "       'occupation_type', 'code_gender_M', 'flag_own_car_Y',\n",
       "       'flag_own_realty_Y', 'name_income_type_Pensioner',\n",
       "       'name_income_type_State servant', 'name_income_type_Student',\n",
       "       'name_income_type_Working', 'name_education_type_Higher education',\n",
       "       'name_education_type_Incomplete higher',\n",
       "       'name_education_type_Lower secondary',\n",
       "       'name_education_type_Secondary / secondary special',\n",
       "       'name_family_status_Married', 'name_family_status_Separated',\n",
       "       'name_family_status_Single / not married', 'name_family_status_Widow'],\n",
       "      dtype='object')"
      ]
     },
     "execution_count": 75,
     "metadata": {},
     "output_type": "execute_result"
    }
   ],
   "source": [
    "num_col"
   ]
  },
  {
   "cell_type": "code",
   "execution_count": 76,
   "metadata": {},
   "outputs": [],
   "source": [
    "scaler=StandardScaler()\n",
    "df[num_col]=scaler.fit_transform(df[num_col])"
   ]
  },
  {
   "cell_type": "code",
   "execution_count": 77,
   "metadata": {},
   "outputs": [
    {
     "name": "stdout",
     "output_type": "stream",
     "text": [
      "<class 'pandas.core.frame.DataFrame'>\n",
      "RangeIndex: 438557 entries, 0 to 438556\n",
      "Data columns (total 26 columns):\n",
      " #   Column                                             Non-Null Count   Dtype  \n",
      "---  ------                                             --------------   -----  \n",
      " 0   id                                                 438557 non-null  float64\n",
      " 1   cnt_children                                       438557 non-null  int8   \n",
      " 2   amt_income_total                                   438557 non-null  float64\n",
      " 3   name_housing_type                                  438557 non-null  float64\n",
      " 4   days_birth                                         438557 non-null  int16  \n",
      " 5   days_employed                                      438557 non-null  float64\n",
      " 6   flag_work_phone                                    438557 non-null  int8   \n",
      " 7   flag_phone                                         438557 non-null  int8   \n",
      " 8   flag_email                                         438557 non-null  int8   \n",
      " 9   occupation_type                                    438557 non-null  float64\n",
      " 10  cnt_fam_members                                    438557 non-null  float32\n",
      " 11  code_gender_M                                      438557 non-null  float64\n",
      " 12  flag_own_car_Y                                     438557 non-null  float64\n",
      " 13  flag_own_realty_Y                                  438557 non-null  float64\n",
      " 14  name_income_type_Pensioner                         438557 non-null  float64\n",
      " 15  name_income_type_State servant                     438557 non-null  float64\n",
      " 16  name_income_type_Student                           438557 non-null  float64\n",
      " 17  name_income_type_Working                           438557 non-null  float64\n",
      " 18  name_education_type_Higher education               438557 non-null  float64\n",
      " 19  name_education_type_Incomplete higher              438557 non-null  float64\n",
      " 20  name_education_type_Lower secondary                438557 non-null  float64\n",
      " 21  name_education_type_Secondary / secondary special  438557 non-null  float64\n",
      " 22  name_family_status_Married                         438557 non-null  float64\n",
      " 23  name_family_status_Separated                       438557 non-null  float64\n",
      " 24  name_family_status_Single / not married            438557 non-null  float64\n",
      " 25  name_family_status_Widow                           438557 non-null  float64\n",
      "dtypes: float32(1), float64(20), int16(1), int8(4)\n",
      "memory usage: 71.1 MB\n"
     ]
    }
   ],
   "source": [
    "df.info()"
   ]
  },
  {
   "cell_type": "code",
   "execution_count": 78,
   "metadata": {},
   "outputs": [
    {
     "data": {
      "text/html": [
       "<div>\n",
       "<style scoped>\n",
       "    .dataframe tbody tr th:only-of-type {\n",
       "        vertical-align: middle;\n",
       "    }\n",
       "\n",
       "    .dataframe tbody tr th {\n",
       "        vertical-align: top;\n",
       "    }\n",
       "\n",
       "    .dataframe thead th {\n",
       "        text-align: right;\n",
       "    }\n",
       "</style>\n",
       "<table border=\"1\" class=\"dataframe\">\n",
       "  <thead>\n",
       "    <tr style=\"text-align: right;\">\n",
       "      <th></th>\n",
       "      <th>id</th>\n",
       "      <th>cnt_children</th>\n",
       "      <th>amt_income_total</th>\n",
       "      <th>name_housing_type</th>\n",
       "      <th>days_birth</th>\n",
       "      <th>days_employed</th>\n",
       "      <th>flag_work_phone</th>\n",
       "      <th>flag_phone</th>\n",
       "      <th>flag_email</th>\n",
       "      <th>occupation_type</th>\n",
       "      <th>...</th>\n",
       "      <th>name_income_type_Student</th>\n",
       "      <th>name_income_type_Working</th>\n",
       "      <th>name_education_type_Higher education</th>\n",
       "      <th>name_education_type_Incomplete higher</th>\n",
       "      <th>name_education_type_Lower secondary</th>\n",
       "      <th>name_education_type_Secondary / secondary special</th>\n",
       "      <th>name_family_status_Married</th>\n",
       "      <th>name_family_status_Separated</th>\n",
       "      <th>name_family_status_Single / not married</th>\n",
       "      <th>name_family_status_Widow</th>\n",
       "    </tr>\n",
       "  </thead>\n",
       "  <tbody>\n",
       "    <tr>\n",
       "      <th>0</th>\n",
       "      <td>-1.772757</td>\n",
       "      <td>0</td>\n",
       "      <td>2.179879</td>\n",
       "      <td>3.020651</td>\n",
       "      <td>-12005</td>\n",
       "      <td>-0.469170</td>\n",
       "      <td>1</td>\n",
       "      <td>0</td>\n",
       "      <td>0</td>\n",
       "      <td>0.064167</td>\n",
       "      <td>...</td>\n",
       "      <td>-0.006226</td>\n",
       "      <td>0.969343</td>\n",
       "      <td>1.652786</td>\n",
       "      <td>-0.187217</td>\n",
       "      <td>-0.096557</td>\n",
       "      <td>-1.485707</td>\n",
       "      <td>-1.470119</td>\n",
       "      <td>-0.2574</td>\n",
       "      <td>-0.379741</td>\n",
       "      <td>-0.216726</td>\n",
       "    </tr>\n",
       "    <tr>\n",
       "      <th>1</th>\n",
       "      <td>-1.772755</td>\n",
       "      <td>0</td>\n",
       "      <td>2.179879</td>\n",
       "      <td>3.020651</td>\n",
       "      <td>-12005</td>\n",
       "      <td>-0.469170</td>\n",
       "      <td>1</td>\n",
       "      <td>0</td>\n",
       "      <td>0</td>\n",
       "      <td>0.064167</td>\n",
       "      <td>...</td>\n",
       "      <td>-0.006226</td>\n",
       "      <td>0.969343</td>\n",
       "      <td>1.652786</td>\n",
       "      <td>-0.187217</td>\n",
       "      <td>-0.096557</td>\n",
       "      <td>-1.485707</td>\n",
       "      <td>-1.470119</td>\n",
       "      <td>-0.2574</td>\n",
       "      <td>-0.379741</td>\n",
       "      <td>-0.216726</td>\n",
       "    </tr>\n",
       "    <tr>\n",
       "      <th>2</th>\n",
       "      <td>-1.772753</td>\n",
       "      <td>0</td>\n",
       "      <td>-0.681502</td>\n",
       "      <td>-0.288625</td>\n",
       "      <td>-21474</td>\n",
       "      <td>-0.444611</td>\n",
       "      <td>0</td>\n",
       "      <td>0</td>\n",
       "      <td>0</td>\n",
       "      <td>2.279488</td>\n",
       "      <td>...</td>\n",
       "      <td>-0.006226</td>\n",
       "      <td>0.969343</td>\n",
       "      <td>-0.605039</td>\n",
       "      <td>-0.187217</td>\n",
       "      <td>-0.096557</td>\n",
       "      <td>0.673080</td>\n",
       "      <td>0.680217</td>\n",
       "      <td>-0.2574</td>\n",
       "      <td>-0.379741</td>\n",
       "      <td>-0.216726</td>\n",
       "    </tr>\n",
       "    <tr>\n",
       "      <th>3</th>\n",
       "      <td>-1.772750</td>\n",
       "      <td>0</td>\n",
       "      <td>0.749189</td>\n",
       "      <td>-0.288625</td>\n",
       "      <td>-19110</td>\n",
       "      <td>-0.458426</td>\n",
       "      <td>0</td>\n",
       "      <td>1</td>\n",
       "      <td>1</td>\n",
       "      <td>1.725657</td>\n",
       "      <td>...</td>\n",
       "      <td>-0.006226</td>\n",
       "      <td>-1.031627</td>\n",
       "      <td>-0.605039</td>\n",
       "      <td>-0.187217</td>\n",
       "      <td>-0.096557</td>\n",
       "      <td>0.673080</td>\n",
       "      <td>-1.470119</td>\n",
       "      <td>-0.2574</td>\n",
       "      <td>2.633376</td>\n",
       "      <td>-0.216726</td>\n",
       "    </tr>\n",
       "    <tr>\n",
       "      <th>4</th>\n",
       "      <td>-1.772748</td>\n",
       "      <td>0</td>\n",
       "      <td>0.749189</td>\n",
       "      <td>-0.288625</td>\n",
       "      <td>-19110</td>\n",
       "      <td>-0.458426</td>\n",
       "      <td>0</td>\n",
       "      <td>1</td>\n",
       "      <td>1</td>\n",
       "      <td>1.725657</td>\n",
       "      <td>...</td>\n",
       "      <td>-0.006226</td>\n",
       "      <td>-1.031627</td>\n",
       "      <td>-0.605039</td>\n",
       "      <td>-0.187217</td>\n",
       "      <td>-0.096557</td>\n",
       "      <td>0.673080</td>\n",
       "      <td>-1.470119</td>\n",
       "      <td>-0.2574</td>\n",
       "      <td>2.633376</td>\n",
       "      <td>-0.216726</td>\n",
       "    </tr>\n",
       "  </tbody>\n",
       "</table>\n",
       "<p>5 rows × 26 columns</p>\n",
       "</div>"
      ],
      "text/plain": [
       "         id  cnt_children  amt_income_total  name_housing_type  days_birth  \\\n",
       "0 -1.772757             0          2.179879           3.020651      -12005   \n",
       "1 -1.772755             0          2.179879           3.020651      -12005   \n",
       "2 -1.772753             0         -0.681502          -0.288625      -21474   \n",
       "3 -1.772750             0          0.749189          -0.288625      -19110   \n",
       "4 -1.772748             0          0.749189          -0.288625      -19110   \n",
       "\n",
       "   days_employed  flag_work_phone  flag_phone  flag_email  occupation_type  \\\n",
       "0      -0.469170                1           0           0         0.064167   \n",
       "1      -0.469170                1           0           0         0.064167   \n",
       "2      -0.444611                0           0           0         2.279488   \n",
       "3      -0.458426                0           1           1         1.725657   \n",
       "4      -0.458426                0           1           1         1.725657   \n",
       "\n",
       "   ...  name_income_type_Student  name_income_type_Working  \\\n",
       "0  ...                 -0.006226                  0.969343   \n",
       "1  ...                 -0.006226                  0.969343   \n",
       "2  ...                 -0.006226                  0.969343   \n",
       "3  ...                 -0.006226                 -1.031627   \n",
       "4  ...                 -0.006226                 -1.031627   \n",
       "\n",
       "   name_education_type_Higher education  \\\n",
       "0                              1.652786   \n",
       "1                              1.652786   \n",
       "2                             -0.605039   \n",
       "3                             -0.605039   \n",
       "4                             -0.605039   \n",
       "\n",
       "   name_education_type_Incomplete higher  name_education_type_Lower secondary  \\\n",
       "0                              -0.187217                            -0.096557   \n",
       "1                              -0.187217                            -0.096557   \n",
       "2                              -0.187217                            -0.096557   \n",
       "3                              -0.187217                            -0.096557   \n",
       "4                              -0.187217                            -0.096557   \n",
       "\n",
       "   name_education_type_Secondary / secondary special  \\\n",
       "0                                          -1.485707   \n",
       "1                                          -1.485707   \n",
       "2                                           0.673080   \n",
       "3                                           0.673080   \n",
       "4                                           0.673080   \n",
       "\n",
       "   name_family_status_Married  name_family_status_Separated  \\\n",
       "0                   -1.470119                       -0.2574   \n",
       "1                   -1.470119                       -0.2574   \n",
       "2                    0.680217                       -0.2574   \n",
       "3                   -1.470119                       -0.2574   \n",
       "4                   -1.470119                       -0.2574   \n",
       "\n",
       "   name_family_status_Single / not married  name_family_status_Widow  \n",
       "0                                -0.379741                 -0.216726  \n",
       "1                                -0.379741                 -0.216726  \n",
       "2                                -0.379741                 -0.216726  \n",
       "3                                 2.633376                 -0.216726  \n",
       "4                                 2.633376                 -0.216726  \n",
       "\n",
       "[5 rows x 26 columns]"
      ]
     },
     "execution_count": 78,
     "metadata": {},
     "output_type": "execute_result"
    }
   ],
   "source": [
    "df.head()"
   ]
  },
  {
   "cell_type": "code",
   "execution_count": 79,
   "metadata": {},
   "outputs": [
    {
     "ename": "KeyError",
     "evalue": "\"['OCCUPATION_TYPE'] not found in axis\"",
     "output_type": "error",
     "traceback": [
      "\u001b[1;31m---------------------------------------------------------------------------\u001b[0m",
      "\u001b[1;31mKeyError\u001b[0m                                  Traceback (most recent call last)",
      "Cell \u001b[1;32mIn[79], line 1\u001b[0m\n\u001b[1;32m----> 1\u001b[0m x\u001b[38;5;241m=\u001b[39mdf\u001b[38;5;241m.\u001b[39mdrop(columns\u001b[38;5;241m=\u001b[39m[\u001b[38;5;124m'\u001b[39m\u001b[38;5;124mOCCUPATION_TYPE\u001b[39m\u001b[38;5;124m'\u001b[39m])\n",
      "File \u001b[1;32mc:\\Users\\musli\\anaconda3\\Lib\\site-packages\\pandas\\util\\_decorators.py:331\u001b[0m, in \u001b[0;36mdeprecate_nonkeyword_arguments.<locals>.decorate.<locals>.wrapper\u001b[1;34m(*args, **kwargs)\u001b[0m\n\u001b[0;32m    325\u001b[0m \u001b[38;5;28;01mif\u001b[39;00m \u001b[38;5;28mlen\u001b[39m(args) \u001b[38;5;241m>\u001b[39m num_allow_args:\n\u001b[0;32m    326\u001b[0m     warnings\u001b[38;5;241m.\u001b[39mwarn(\n\u001b[0;32m    327\u001b[0m         msg\u001b[38;5;241m.\u001b[39mformat(arguments\u001b[38;5;241m=\u001b[39m_format_argument_list(allow_args)),\n\u001b[0;32m    328\u001b[0m         \u001b[38;5;167;01mFutureWarning\u001b[39;00m,\n\u001b[0;32m    329\u001b[0m         stacklevel\u001b[38;5;241m=\u001b[39mfind_stack_level(),\n\u001b[0;32m    330\u001b[0m     )\n\u001b[1;32m--> 331\u001b[0m \u001b[38;5;28;01mreturn\u001b[39;00m func(\u001b[38;5;241m*\u001b[39margs, \u001b[38;5;241m*\u001b[39m\u001b[38;5;241m*\u001b[39mkwargs)\n",
      "File \u001b[1;32mc:\\Users\\musli\\anaconda3\\Lib\\site-packages\\pandas\\core\\frame.py:5399\u001b[0m, in \u001b[0;36mDataFrame.drop\u001b[1;34m(self, labels, axis, index, columns, level, inplace, errors)\u001b[0m\n\u001b[0;32m   5251\u001b[0m \u001b[38;5;129m@deprecate_nonkeyword_arguments\u001b[39m(version\u001b[38;5;241m=\u001b[39m\u001b[38;5;28;01mNone\u001b[39;00m, allowed_args\u001b[38;5;241m=\u001b[39m[\u001b[38;5;124m\"\u001b[39m\u001b[38;5;124mself\u001b[39m\u001b[38;5;124m\"\u001b[39m, \u001b[38;5;124m\"\u001b[39m\u001b[38;5;124mlabels\u001b[39m\u001b[38;5;124m\"\u001b[39m])\n\u001b[0;32m   5252\u001b[0m \u001b[38;5;28;01mdef\u001b[39;00m \u001b[38;5;21mdrop\u001b[39m(  \u001b[38;5;66;03m# type: ignore[override]\u001b[39;00m\n\u001b[0;32m   5253\u001b[0m     \u001b[38;5;28mself\u001b[39m,\n\u001b[1;32m   (...)\u001b[0m\n\u001b[0;32m   5260\u001b[0m     errors: IgnoreRaise \u001b[38;5;241m=\u001b[39m \u001b[38;5;124m\"\u001b[39m\u001b[38;5;124mraise\u001b[39m\u001b[38;5;124m\"\u001b[39m,\n\u001b[0;32m   5261\u001b[0m ) \u001b[38;5;241m-\u001b[39m\u001b[38;5;241m>\u001b[39m DataFrame \u001b[38;5;241m|\u001b[39m \u001b[38;5;28;01mNone\u001b[39;00m:\n\u001b[0;32m   5262\u001b[0m \u001b[38;5;250m    \u001b[39m\u001b[38;5;124;03m\"\"\"\u001b[39;00m\n\u001b[0;32m   5263\u001b[0m \u001b[38;5;124;03m    Drop specified labels from rows or columns.\u001b[39;00m\n\u001b[0;32m   5264\u001b[0m \n\u001b[1;32m   (...)\u001b[0m\n\u001b[0;32m   5397\u001b[0m \u001b[38;5;124;03m            weight  1.0     0.8\u001b[39;00m\n\u001b[0;32m   5398\u001b[0m \u001b[38;5;124;03m    \"\"\"\u001b[39;00m\n\u001b[1;32m-> 5399\u001b[0m     \u001b[38;5;28;01mreturn\u001b[39;00m \u001b[38;5;28msuper\u001b[39m()\u001b[38;5;241m.\u001b[39mdrop(\n\u001b[0;32m   5400\u001b[0m         labels\u001b[38;5;241m=\u001b[39mlabels,\n\u001b[0;32m   5401\u001b[0m         axis\u001b[38;5;241m=\u001b[39maxis,\n\u001b[0;32m   5402\u001b[0m         index\u001b[38;5;241m=\u001b[39mindex,\n\u001b[0;32m   5403\u001b[0m         columns\u001b[38;5;241m=\u001b[39mcolumns,\n\u001b[0;32m   5404\u001b[0m         level\u001b[38;5;241m=\u001b[39mlevel,\n\u001b[0;32m   5405\u001b[0m         inplace\u001b[38;5;241m=\u001b[39minplace,\n\u001b[0;32m   5406\u001b[0m         errors\u001b[38;5;241m=\u001b[39merrors,\n\u001b[0;32m   5407\u001b[0m     )\n",
      "File \u001b[1;32mc:\\Users\\musli\\anaconda3\\Lib\\site-packages\\pandas\\util\\_decorators.py:331\u001b[0m, in \u001b[0;36mdeprecate_nonkeyword_arguments.<locals>.decorate.<locals>.wrapper\u001b[1;34m(*args, **kwargs)\u001b[0m\n\u001b[0;32m    325\u001b[0m \u001b[38;5;28;01mif\u001b[39;00m \u001b[38;5;28mlen\u001b[39m(args) \u001b[38;5;241m>\u001b[39m num_allow_args:\n\u001b[0;32m    326\u001b[0m     warnings\u001b[38;5;241m.\u001b[39mwarn(\n\u001b[0;32m    327\u001b[0m         msg\u001b[38;5;241m.\u001b[39mformat(arguments\u001b[38;5;241m=\u001b[39m_format_argument_list(allow_args)),\n\u001b[0;32m    328\u001b[0m         \u001b[38;5;167;01mFutureWarning\u001b[39;00m,\n\u001b[0;32m    329\u001b[0m         stacklevel\u001b[38;5;241m=\u001b[39mfind_stack_level(),\n\u001b[0;32m    330\u001b[0m     )\n\u001b[1;32m--> 331\u001b[0m \u001b[38;5;28;01mreturn\u001b[39;00m func(\u001b[38;5;241m*\u001b[39margs, \u001b[38;5;241m*\u001b[39m\u001b[38;5;241m*\u001b[39mkwargs)\n",
      "File \u001b[1;32mc:\\Users\\musli\\anaconda3\\Lib\\site-packages\\pandas\\core\\generic.py:4505\u001b[0m, in \u001b[0;36mNDFrame.drop\u001b[1;34m(self, labels, axis, index, columns, level, inplace, errors)\u001b[0m\n\u001b[0;32m   4503\u001b[0m \u001b[38;5;28;01mfor\u001b[39;00m axis, labels \u001b[38;5;129;01min\u001b[39;00m axes\u001b[38;5;241m.\u001b[39mitems():\n\u001b[0;32m   4504\u001b[0m     \u001b[38;5;28;01mif\u001b[39;00m labels \u001b[38;5;129;01mis\u001b[39;00m \u001b[38;5;129;01mnot\u001b[39;00m \u001b[38;5;28;01mNone\u001b[39;00m:\n\u001b[1;32m-> 4505\u001b[0m         obj \u001b[38;5;241m=\u001b[39m obj\u001b[38;5;241m.\u001b[39m_drop_axis(labels, axis, level\u001b[38;5;241m=\u001b[39mlevel, errors\u001b[38;5;241m=\u001b[39merrors)\n\u001b[0;32m   4507\u001b[0m \u001b[38;5;28;01mif\u001b[39;00m inplace:\n\u001b[0;32m   4508\u001b[0m     \u001b[38;5;28mself\u001b[39m\u001b[38;5;241m.\u001b[39m_update_inplace(obj)\n",
      "File \u001b[1;32mc:\\Users\\musli\\anaconda3\\Lib\\site-packages\\pandas\\core\\generic.py:4546\u001b[0m, in \u001b[0;36mNDFrame._drop_axis\u001b[1;34m(self, labels, axis, level, errors, only_slice)\u001b[0m\n\u001b[0;32m   4544\u001b[0m         new_axis \u001b[38;5;241m=\u001b[39m axis\u001b[38;5;241m.\u001b[39mdrop(labels, level\u001b[38;5;241m=\u001b[39mlevel, errors\u001b[38;5;241m=\u001b[39merrors)\n\u001b[0;32m   4545\u001b[0m     \u001b[38;5;28;01melse\u001b[39;00m:\n\u001b[1;32m-> 4546\u001b[0m         new_axis \u001b[38;5;241m=\u001b[39m axis\u001b[38;5;241m.\u001b[39mdrop(labels, errors\u001b[38;5;241m=\u001b[39merrors)\n\u001b[0;32m   4547\u001b[0m     indexer \u001b[38;5;241m=\u001b[39m axis\u001b[38;5;241m.\u001b[39mget_indexer(new_axis)\n\u001b[0;32m   4549\u001b[0m \u001b[38;5;66;03m# Case for non-unique axis\u001b[39;00m\n\u001b[0;32m   4550\u001b[0m \u001b[38;5;28;01melse\u001b[39;00m:\n",
      "File \u001b[1;32mc:\\Users\\musli\\anaconda3\\Lib\\site-packages\\pandas\\core\\indexes\\base.py:6934\u001b[0m, in \u001b[0;36mIndex.drop\u001b[1;34m(self, labels, errors)\u001b[0m\n\u001b[0;32m   6932\u001b[0m \u001b[38;5;28;01mif\u001b[39;00m mask\u001b[38;5;241m.\u001b[39many():\n\u001b[0;32m   6933\u001b[0m     \u001b[38;5;28;01mif\u001b[39;00m errors \u001b[38;5;241m!=\u001b[39m \u001b[38;5;124m\"\u001b[39m\u001b[38;5;124mignore\u001b[39m\u001b[38;5;124m\"\u001b[39m:\n\u001b[1;32m-> 6934\u001b[0m         \u001b[38;5;28;01mraise\u001b[39;00m \u001b[38;5;167;01mKeyError\u001b[39;00m(\u001b[38;5;124mf\u001b[39m\u001b[38;5;124m\"\u001b[39m\u001b[38;5;132;01m{\u001b[39;00m\u001b[38;5;28mlist\u001b[39m(labels[mask])\u001b[38;5;132;01m}\u001b[39;00m\u001b[38;5;124m not found in axis\u001b[39m\u001b[38;5;124m\"\u001b[39m)\n\u001b[0;32m   6935\u001b[0m     indexer \u001b[38;5;241m=\u001b[39m indexer[\u001b[38;5;241m~\u001b[39mmask]\n\u001b[0;32m   6936\u001b[0m \u001b[38;5;28;01mreturn\u001b[39;00m \u001b[38;5;28mself\u001b[39m\u001b[38;5;241m.\u001b[39mdelete(indexer)\n",
      "\u001b[1;31mKeyError\u001b[0m: \"['OCCUPATION_TYPE'] not found in axis\""
     ]
    }
   ],
   "source": [
    "x=df.drop(columns=['OCCUPATION_TYPE'])"
   ]
  },
  {
   "cell_type": "code",
   "execution_count": null,
   "metadata": {},
   "outputs": [],
   "source": [
    "y=df['OCCUPATION_TYPE']"
   ]
  },
  {
   "cell_type": "code",
   "execution_count": null,
   "metadata": {},
   "outputs": [],
   "source": [
    "x_train,x_temp,y_train,y_temp = train_test_split(x,y,test_size=0.2,random_state=42)\n",
    "x_test,x_val, y_test,y_val=train_test_split(x_temp,y_temp,test_size=0.5,random_state=42)"
   ]
  },
  {
   "cell_type": "code",
   "execution_count": null,
   "metadata": {},
   "outputs": [],
   "source": [
    "model=LinearRegression()\n",
    "linear_model=model.fit(x_train,y_train)\n",
    "y_pred=linear_model.predict(x_test)\n",
    "mse=mean_squared_error(y_test,y_pred)\n",
    "r2=r2_score(y_test,y_pred)"
   ]
  },
  {
   "cell_type": "code",
   "execution_count": null,
   "metadata": {},
   "outputs": [
    {
     "data": {
      "text/plain": [
       "0.964255587937301"
      ]
     },
     "execution_count": 28,
     "metadata": {},
     "output_type": "execute_result"
    }
   ],
   "source": [
    "mse"
   ]
  },
  {
   "cell_type": "code",
   "execution_count": null,
   "metadata": {},
   "outputs": [
    {
     "data": {
      "text/plain": [
       "0.027144760803375245"
      ]
     },
     "execution_count": 29,
     "metadata": {},
     "output_type": "execute_result"
    }
   ],
   "source": [
    "r2"
   ]
  },
  {
   "cell_type": "code",
   "execution_count": null,
   "metadata": {},
   "outputs": [],
   "source": [
    "model=DecisionTreeRegressor()\n",
    "dt_model=model.fit(x_train,y_train)\n",
    "y_pred=dt_model.predict(x_test)\n",
    "mse=mean_squared_error(y_test,y_pred)\n",
    "r2=r2_score(y_test,y_pred)"
   ]
  },
  {
   "cell_type": "code",
   "execution_count": null,
   "metadata": {},
   "outputs": [
    {
     "data": {
      "text/plain": [
       "0.1676684561879578"
      ]
     },
     "execution_count": 31,
     "metadata": {},
     "output_type": "execute_result"
    }
   ],
   "source": [
    "mse"
   ]
  },
  {
   "cell_type": "code",
   "execution_count": null,
   "metadata": {},
   "outputs": [
    {
     "data": {
      "text/plain": [
       "0.830836203501399"
      ]
     },
     "execution_count": 32,
     "metadata": {},
     "output_type": "execute_result"
    }
   ],
   "source": [
    "r2"
   ]
  },
  {
   "cell_type": "markdown",
   "metadata": {},
   "source": [
    "\n",
    "with klib"
   ]
  },
  {
   "cell_type": "code",
   "execution_count": null,
   "metadata": {},
   "outputs": [],
   "source": [
    "import klib"
   ]
  },
  {
   "cell_type": "code",
   "execution_count": null,
   "metadata": {},
   "outputs": [],
   "source": [
    "df=pd.read_csv('application_record.csv.zip')"
   ]
  },
  {
   "cell_type": "code",
   "execution_count": null,
   "metadata": {},
   "outputs": [
    {
     "name": "stdout",
     "output_type": "stream",
     "text": [
      "<class 'pandas.core.frame.DataFrame'>\n",
      "RangeIndex: 438557 entries, 0 to 438556\n",
      "Data columns (total 18 columns):\n",
      " #   Column               Non-Null Count   Dtype  \n",
      "---  ------               --------------   -----  \n",
      " 0   ID                   438557 non-null  int64  \n",
      " 1   CODE_GENDER          438557 non-null  object \n",
      " 2   FLAG_OWN_CAR         438557 non-null  object \n",
      " 3   FLAG_OWN_REALTY      438557 non-null  object \n",
      " 4   CNT_CHILDREN         438557 non-null  int64  \n",
      " 5   AMT_INCOME_TOTAL     438557 non-null  float64\n",
      " 6   NAME_INCOME_TYPE     438557 non-null  object \n",
      " 7   NAME_EDUCATION_TYPE  438557 non-null  object \n",
      " 8   NAME_FAMILY_STATUS   438557 non-null  object \n",
      " 9   NAME_HOUSING_TYPE    438557 non-null  object \n",
      " 10  DAYS_BIRTH           438557 non-null  int64  \n",
      " 11  DAYS_EMPLOYED        438557 non-null  int64  \n",
      " 12  FLAG_MOBIL           438557 non-null  int64  \n",
      " 13  FLAG_WORK_PHONE      438557 non-null  int64  \n",
      " 14  FLAG_PHONE           438557 non-null  int64  \n",
      " 15  FLAG_EMAIL           438557 non-null  int64  \n",
      " 16  OCCUPATION_TYPE      304354 non-null  object \n",
      " 17  CNT_FAM_MEMBERS      438557 non-null  float64\n",
      "dtypes: float64(2), int64(8), object(8)\n",
      "memory usage: 60.2+ MB\n"
     ]
    }
   ],
   "source": [
    "df.info()"
   ]
  },
  {
   "cell_type": "code",
   "execution_count": null,
   "metadata": {},
   "outputs": [
    {
     "name": "stdout",
     "output_type": "stream",
     "text": [
      "Shape of cleaned data: (438557, 17) - Remaining NAs: 134203\n",
      "\n",
      "\n",
      "Dropped rows: 0\n",
      "     of which 0 duplicates. (Rows (first 150 shown): [])\n",
      "\n",
      "Dropped columns: 1\n",
      "     of which 1 single valued.     Columns: ['flag_mobil']\n",
      "Dropped missing values: 0\n",
      "Reduced memory by at least: 46.01 MB (-76.39%)\n",
      "\n"
     ]
    }
   ],
   "source": [
    "df=klib.data_cleaning(df)"
   ]
  },
  {
   "cell_type": "code",
   "execution_count": null,
   "metadata": {},
   "outputs": [
    {
     "name": "stdout",
     "output_type": "stream",
     "text": [
      "<class 'pandas.core.frame.DataFrame'>\n",
      "RangeIndex: 438557 entries, 0 to 438556\n",
      "Data columns (total 17 columns):\n",
      " #   Column               Non-Null Count   Dtype   \n",
      "---  ------               --------------   -----   \n",
      " 0   id                   438557 non-null  int32   \n",
      " 1   code_gender          438557 non-null  category\n",
      " 2   flag_own_car         438557 non-null  category\n",
      " 3   flag_own_realty      438557 non-null  category\n",
      " 4   cnt_children         438557 non-null  int8    \n",
      " 5   amt_income_total     438557 non-null  float64 \n",
      " 6   name_income_type     438557 non-null  category\n",
      " 7   name_education_type  438557 non-null  category\n",
      " 8   name_family_status   438557 non-null  category\n",
      " 9   name_housing_type    438557 non-null  category\n",
      " 10  days_birth           438557 non-null  int16   \n",
      " 11  days_employed        438557 non-null  int32   \n",
      " 12  flag_work_phone      438557 non-null  int8    \n",
      " 13  flag_phone           438557 non-null  int8    \n",
      " 14  flag_email           438557 non-null  int8    \n",
      " 15  occupation_type      304354 non-null  category\n",
      " 16  cnt_fam_members      438557 non-null  float32 \n",
      "dtypes: category(8), float32(1), float64(1), int16(1), int32(2), int8(4)\n",
      "memory usage: 14.2 MB\n"
     ]
    }
   ],
   "source": [
    "df.info()"
   ]
  },
  {
   "cell_type": "code",
   "execution_count": null,
   "metadata": {},
   "outputs": [],
   "source": [
    "df['occupation_type'].fillna(df['occupation_type'].mode()[0], inplace=True)"
   ]
  },
  {
   "cell_type": "code",
   "execution_count": null,
   "metadata": {},
   "outputs": [
    {
     "name": "stdout",
     "output_type": "stream",
     "text": [
      "<class 'pandas.core.frame.DataFrame'>\n",
      "RangeIndex: 438557 entries, 0 to 438556\n",
      "Data columns (total 17 columns):\n",
      " #   Column               Non-Null Count   Dtype   \n",
      "---  ------               --------------   -----   \n",
      " 0   id                   438557 non-null  int32   \n",
      " 1   code_gender          438557 non-null  category\n",
      " 2   flag_own_car         438557 non-null  category\n",
      " 3   flag_own_realty      438557 non-null  category\n",
      " 4   cnt_children         438557 non-null  int8    \n",
      " 5   amt_income_total     438557 non-null  float64 \n",
      " 6   name_income_type     438557 non-null  category\n",
      " 7   name_education_type  438557 non-null  category\n",
      " 8   name_family_status   438557 non-null  category\n",
      " 9   name_housing_type    438557 non-null  category\n",
      " 10  days_birth           438557 non-null  int16   \n",
      " 11  days_employed        438557 non-null  int32   \n",
      " 12  flag_work_phone      438557 non-null  int8    \n",
      " 13  flag_phone           438557 non-null  int8    \n",
      " 14  flag_email           438557 non-null  int8    \n",
      " 15  occupation_type      438557 non-null  category\n",
      " 16  cnt_fam_members      438557 non-null  float32 \n",
      "dtypes: category(8), float32(1), float64(1), int16(1), int32(2), int8(4)\n",
      "memory usage: 14.2 MB\n"
     ]
    }
   ],
   "source": [
    "df.info()"
   ]
  },
  {
   "cell_type": "code",
   "execution_count": null,
   "metadata": {},
   "outputs": [],
   "source": [
    "cardinality=df.nunique()"
   ]
  },
  {
   "cell_type": "code",
   "execution_count": null,
   "metadata": {},
   "outputs": [],
   "source": [
    "for col in df.columns:\n",
    "    if df[col].dtype == 'category':\n",
    "        if cardinality[col] <= 5:\n",
    "            df = pd.get_dummies(df, columns=[col], dtype=int, drop_first=True)\n",
    "        else:\n",
    "            le = LabelEncoder()\n",
    "            df[col] = le.fit_transform(df[col])"
   ]
  },
  {
   "cell_type": "code",
   "execution_count": null,
   "metadata": {},
   "outputs": [
    {
     "name": "stdout",
     "output_type": "stream",
     "text": [
      "<class 'pandas.core.frame.DataFrame'>\n",
      "RangeIndex: 438557 entries, 0 to 438556\n",
      "Data columns (total 26 columns):\n",
      " #   Column                                             Non-Null Count   Dtype  \n",
      "---  ------                                             --------------   -----  \n",
      " 0   id                                                 438557 non-null  int32  \n",
      " 1   cnt_children                                       438557 non-null  int8   \n",
      " 2   amt_income_total                                   438557 non-null  float64\n",
      " 3   name_housing_type                                  438557 non-null  int32  \n",
      " 4   days_birth                                         438557 non-null  int16  \n",
      " 5   days_employed                                      438557 non-null  int32  \n",
      " 6   flag_work_phone                                    438557 non-null  int8   \n",
      " 7   flag_phone                                         438557 non-null  int8   \n",
      " 8   flag_email                                         438557 non-null  int8   \n",
      " 9   occupation_type                                    438557 non-null  int32  \n",
      " 10  cnt_fam_members                                    438557 non-null  float32\n",
      " 11  code_gender_M                                      438557 non-null  int32  \n",
      " 12  flag_own_car_Y                                     438557 non-null  int32  \n",
      " 13  flag_own_realty_Y                                  438557 non-null  int32  \n",
      " 14  name_income_type_Pensioner                         438557 non-null  int32  \n",
      " 15  name_income_type_State servant                     438557 non-null  int32  \n",
      " 16  name_income_type_Student                           438557 non-null  int32  \n",
      " 17  name_income_type_Working                           438557 non-null  int32  \n",
      " 18  name_education_type_Higher education               438557 non-null  int32  \n",
      " 19  name_education_type_Incomplete higher              438557 non-null  int32  \n",
      " 20  name_education_type_Lower secondary                438557 non-null  int32  \n",
      " 21  name_education_type_Secondary / secondary special  438557 non-null  int32  \n",
      " 22  name_family_status_Married                         438557 non-null  int32  \n",
      " 23  name_family_status_Separated                       438557 non-null  int32  \n",
      " 24  name_family_status_Single / not married            438557 non-null  int32  \n",
      " 25  name_family_status_Widow                           438557 non-null  int32  \n",
      "dtypes: float32(1), float64(1), int16(1), int32(19), int8(4)\n",
      "memory usage: 39.3 MB\n"
     ]
    }
   ],
   "source": [
    "df.info()"
   ]
  },
  {
   "cell_type": "code",
   "execution_count": null,
   "metadata": {},
   "outputs": [],
   "source": [
    "num_col=df.select_dtypes(include=['int32','float64,int8,int16,float32']).columns"
   ]
  },
  {
   "cell_type": "code",
   "execution_count": null,
   "metadata": {},
   "outputs": [
    {
     "data": {
      "text/plain": [
       "Index(['id', 'name_housing_type', 'days_employed', 'occupation_type',\n",
       "       'code_gender_M', 'flag_own_car_Y', 'flag_own_realty_Y',\n",
       "       'name_income_type_Pensioner', 'name_income_type_State servant',\n",
       "       'name_income_type_Student', 'name_income_type_Working',\n",
       "       'name_education_type_Higher education',\n",
       "       'name_education_type_Incomplete higher',\n",
       "       'name_education_type_Lower secondary',\n",
       "       'name_education_type_Secondary / secondary special',\n",
       "       'name_family_status_Married', 'name_family_status_Separated',\n",
       "       'name_family_status_Single / not married', 'name_family_status_Widow'],\n",
       "      dtype='object')"
      ]
     },
     "execution_count": 41,
     "metadata": {},
     "output_type": "execute_result"
    }
   ],
   "source": [
    "num_col"
   ]
  },
  {
   "cell_type": "code",
   "execution_count": null,
   "metadata": {},
   "outputs": [],
   "source": [
    "scaler = StandardScaler()\n",
    "df[num_col]=scaler.fit_transform(df[num_col])"
   ]
  },
  {
   "cell_type": "code",
   "execution_count": null,
   "metadata": {},
   "outputs": [
    {
     "data": {
      "text/html": [
       "<div>\n",
       "<style scoped>\n",
       "    .dataframe tbody tr th:only-of-type {\n",
       "        vertical-align: middle;\n",
       "    }\n",
       "\n",
       "    .dataframe tbody tr th {\n",
       "        vertical-align: top;\n",
       "    }\n",
       "\n",
       "    .dataframe thead th {\n",
       "        text-align: right;\n",
       "    }\n",
       "</style>\n",
       "<table border=\"1\" class=\"dataframe\">\n",
       "  <thead>\n",
       "    <tr style=\"text-align: right;\">\n",
       "      <th></th>\n",
       "      <th>id</th>\n",
       "      <th>cnt_children</th>\n",
       "      <th>amt_income_total</th>\n",
       "      <th>name_housing_type</th>\n",
       "      <th>days_birth</th>\n",
       "      <th>days_employed</th>\n",
       "      <th>flag_work_phone</th>\n",
       "      <th>flag_phone</th>\n",
       "      <th>flag_email</th>\n",
       "      <th>occupation_type</th>\n",
       "      <th>...</th>\n",
       "      <th>name_income_type_Student</th>\n",
       "      <th>name_income_type_Working</th>\n",
       "      <th>name_education_type_Higher education</th>\n",
       "      <th>name_education_type_Incomplete higher</th>\n",
       "      <th>name_education_type_Lower secondary</th>\n",
       "      <th>name_education_type_Secondary / secondary special</th>\n",
       "      <th>name_family_status_Married</th>\n",
       "      <th>name_family_status_Separated</th>\n",
       "      <th>name_family_status_Single / not married</th>\n",
       "      <th>name_family_status_Widow</th>\n",
       "    </tr>\n",
       "  </thead>\n",
       "  <tbody>\n",
       "    <tr>\n",
       "      <th>0</th>\n",
       "      <td>-1.772757</td>\n",
       "      <td>0</td>\n",
       "      <td>427500.0</td>\n",
       "      <td>3.020651</td>\n",
       "      <td>-12005</td>\n",
       "      <td>-0.469170</td>\n",
       "      <td>1</td>\n",
       "      <td>0</td>\n",
       "      <td>0</td>\n",
       "      <td>0.064167</td>\n",
       "      <td>...</td>\n",
       "      <td>-0.006226</td>\n",
       "      <td>0.969343</td>\n",
       "      <td>1.652786</td>\n",
       "      <td>-0.187217</td>\n",
       "      <td>-0.096557</td>\n",
       "      <td>-1.485707</td>\n",
       "      <td>-1.470119</td>\n",
       "      <td>-0.2574</td>\n",
       "      <td>-0.379741</td>\n",
       "      <td>-0.216726</td>\n",
       "    </tr>\n",
       "    <tr>\n",
       "      <th>1</th>\n",
       "      <td>-1.772755</td>\n",
       "      <td>0</td>\n",
       "      <td>427500.0</td>\n",
       "      <td>3.020651</td>\n",
       "      <td>-12005</td>\n",
       "      <td>-0.469170</td>\n",
       "      <td>1</td>\n",
       "      <td>0</td>\n",
       "      <td>0</td>\n",
       "      <td>0.064167</td>\n",
       "      <td>...</td>\n",
       "      <td>-0.006226</td>\n",
       "      <td>0.969343</td>\n",
       "      <td>1.652786</td>\n",
       "      <td>-0.187217</td>\n",
       "      <td>-0.096557</td>\n",
       "      <td>-1.485707</td>\n",
       "      <td>-1.470119</td>\n",
       "      <td>-0.2574</td>\n",
       "      <td>-0.379741</td>\n",
       "      <td>-0.216726</td>\n",
       "    </tr>\n",
       "    <tr>\n",
       "      <th>2</th>\n",
       "      <td>-1.772753</td>\n",
       "      <td>0</td>\n",
       "      <td>112500.0</td>\n",
       "      <td>-0.288625</td>\n",
       "      <td>-21474</td>\n",
       "      <td>-0.444611</td>\n",
       "      <td>0</td>\n",
       "      <td>0</td>\n",
       "      <td>0</td>\n",
       "      <td>2.279488</td>\n",
       "      <td>...</td>\n",
       "      <td>-0.006226</td>\n",
       "      <td>0.969343</td>\n",
       "      <td>-0.605039</td>\n",
       "      <td>-0.187217</td>\n",
       "      <td>-0.096557</td>\n",
       "      <td>0.673080</td>\n",
       "      <td>0.680217</td>\n",
       "      <td>-0.2574</td>\n",
       "      <td>-0.379741</td>\n",
       "      <td>-0.216726</td>\n",
       "    </tr>\n",
       "    <tr>\n",
       "      <th>3</th>\n",
       "      <td>-1.772750</td>\n",
       "      <td>0</td>\n",
       "      <td>270000.0</td>\n",
       "      <td>-0.288625</td>\n",
       "      <td>-19110</td>\n",
       "      <td>-0.458426</td>\n",
       "      <td>0</td>\n",
       "      <td>1</td>\n",
       "      <td>1</td>\n",
       "      <td>1.725657</td>\n",
       "      <td>...</td>\n",
       "      <td>-0.006226</td>\n",
       "      <td>-1.031627</td>\n",
       "      <td>-0.605039</td>\n",
       "      <td>-0.187217</td>\n",
       "      <td>-0.096557</td>\n",
       "      <td>0.673080</td>\n",
       "      <td>-1.470119</td>\n",
       "      <td>-0.2574</td>\n",
       "      <td>2.633376</td>\n",
       "      <td>-0.216726</td>\n",
       "    </tr>\n",
       "    <tr>\n",
       "      <th>4</th>\n",
       "      <td>-1.772748</td>\n",
       "      <td>0</td>\n",
       "      <td>270000.0</td>\n",
       "      <td>-0.288625</td>\n",
       "      <td>-19110</td>\n",
       "      <td>-0.458426</td>\n",
       "      <td>0</td>\n",
       "      <td>1</td>\n",
       "      <td>1</td>\n",
       "      <td>1.725657</td>\n",
       "      <td>...</td>\n",
       "      <td>-0.006226</td>\n",
       "      <td>-1.031627</td>\n",
       "      <td>-0.605039</td>\n",
       "      <td>-0.187217</td>\n",
       "      <td>-0.096557</td>\n",
       "      <td>0.673080</td>\n",
       "      <td>-1.470119</td>\n",
       "      <td>-0.2574</td>\n",
       "      <td>2.633376</td>\n",
       "      <td>-0.216726</td>\n",
       "    </tr>\n",
       "  </tbody>\n",
       "</table>\n",
       "<p>5 rows × 26 columns</p>\n",
       "</div>"
      ],
      "text/plain": [
       "         id  cnt_children  amt_income_total  name_housing_type  days_birth  \\\n",
       "0 -1.772757             0          427500.0           3.020651      -12005   \n",
       "1 -1.772755             0          427500.0           3.020651      -12005   \n",
       "2 -1.772753             0          112500.0          -0.288625      -21474   \n",
       "3 -1.772750             0          270000.0          -0.288625      -19110   \n",
       "4 -1.772748             0          270000.0          -0.288625      -19110   \n",
       "\n",
       "   days_employed  flag_work_phone  flag_phone  flag_email  occupation_type  \\\n",
       "0      -0.469170                1           0           0         0.064167   \n",
       "1      -0.469170                1           0           0         0.064167   \n",
       "2      -0.444611                0           0           0         2.279488   \n",
       "3      -0.458426                0           1           1         1.725657   \n",
       "4      -0.458426                0           1           1         1.725657   \n",
       "\n",
       "   ...  name_income_type_Student  name_income_type_Working  \\\n",
       "0  ...                 -0.006226                  0.969343   \n",
       "1  ...                 -0.006226                  0.969343   \n",
       "2  ...                 -0.006226                  0.969343   \n",
       "3  ...                 -0.006226                 -1.031627   \n",
       "4  ...                 -0.006226                 -1.031627   \n",
       "\n",
       "   name_education_type_Higher education  \\\n",
       "0                              1.652786   \n",
       "1                              1.652786   \n",
       "2                             -0.605039   \n",
       "3                             -0.605039   \n",
       "4                             -0.605039   \n",
       "\n",
       "   name_education_type_Incomplete higher  name_education_type_Lower secondary  \\\n",
       "0                              -0.187217                            -0.096557   \n",
       "1                              -0.187217                            -0.096557   \n",
       "2                              -0.187217                            -0.096557   \n",
       "3                              -0.187217                            -0.096557   \n",
       "4                              -0.187217                            -0.096557   \n",
       "\n",
       "   name_education_type_Secondary / secondary special  \\\n",
       "0                                          -1.485707   \n",
       "1                                          -1.485707   \n",
       "2                                           0.673080   \n",
       "3                                           0.673080   \n",
       "4                                           0.673080   \n",
       "\n",
       "   name_family_status_Married  name_family_status_Separated  \\\n",
       "0                   -1.470119                       -0.2574   \n",
       "1                   -1.470119                       -0.2574   \n",
       "2                    0.680217                       -0.2574   \n",
       "3                   -1.470119                       -0.2574   \n",
       "4                   -1.470119                       -0.2574   \n",
       "\n",
       "   name_family_status_Single / not married  name_family_status_Widow  \n",
       "0                                -0.379741                 -0.216726  \n",
       "1                                -0.379741                 -0.216726  \n",
       "2                                -0.379741                 -0.216726  \n",
       "3                                 2.633376                 -0.216726  \n",
       "4                                 2.633376                 -0.216726  \n",
       "\n",
       "[5 rows x 26 columns]"
      ]
     },
     "execution_count": 57,
     "metadata": {},
     "output_type": "execute_result"
    }
   ],
   "source": [
    "df.head()"
   ]
  },
  {
   "cell_type": "code",
   "execution_count": 88,
   "metadata": {},
   "outputs": [],
   "source": [
    "x=df.drop(columns=['occupation_type'])"
   ]
  },
  {
   "cell_type": "code",
   "execution_count": 87,
   "metadata": {},
   "outputs": [],
   "source": [
    "y=['occupation_type']"
   ]
  },
  {
   "cell_type": "code",
   "execution_count": 89,
   "metadata": {},
   "outputs": [
    {
     "data": {
      "text/plain": [
       "(438557, 25)"
      ]
     },
     "execution_count": 89,
     "metadata": {},
     "output_type": "execute_result"
    }
   ],
   "source": [
    "x.shape"
   ]
  },
  {
   "cell_type": "code",
   "execution_count": 92,
   "metadata": {},
   "outputs": [
    {
     "ename": "NameError",
     "evalue": "name 'y_train' is not defined",
     "output_type": "error",
     "traceback": [
      "\u001b[1;31m---------------------------------------------------------------------------\u001b[0m",
      "\u001b[1;31mNameError\u001b[0m                                 Traceback (most recent call last)",
      "Cell \u001b[1;32mIn[92], line 1\u001b[0m\n\u001b[1;32m----> 1\u001b[0m y_train\u001b[38;5;241m.\u001b[39mshape\n",
      "\u001b[1;31mNameError\u001b[0m: name 'y_train' is not defined"
     ]
    }
   ],
   "source": [
    "y_train.shape"
   ]
  },
  {
   "cell_type": "code",
   "execution_count": 85,
   "metadata": {},
   "outputs": [
    {
     "data": {
      "text/plain": [
       "list"
      ]
     },
     "execution_count": 85,
     "metadata": {},
     "output_type": "execute_result"
    }
   ],
   "source": [
    "type(y)"
   ]
  },
  {
   "cell_type": "code",
   "execution_count": 86,
   "metadata": {},
   "outputs": [
    {
     "data": {
      "text/plain": [
       "pandas.core.frame.DataFrame"
      ]
     },
     "execution_count": 86,
     "metadata": {},
     "output_type": "execute_result"
    }
   ],
   "source": [
    "type(x)"
   ]
  },
  {
   "cell_type": "code",
   "execution_count": null,
   "metadata": {},
   "outputs": [],
   "source": []
  },
  {
   "cell_type": "code",
   "execution_count": null,
   "metadata": {},
   "outputs": [],
   "source": []
  },
  {
   "cell_type": "code",
   "execution_count": null,
   "metadata": {},
   "outputs": [],
   "source": []
  },
  {
   "cell_type": "code",
   "execution_count": null,
   "metadata": {},
   "outputs": [],
   "source": []
  },
  {
   "cell_type": "code",
   "execution_count": null,
   "metadata": {},
   "outputs": [],
   "source": []
  },
  {
   "cell_type": "code",
   "execution_count": null,
   "metadata": {},
   "outputs": [],
   "source": []
  },
  {
   "cell_type": "code",
   "execution_count": null,
   "metadata": {},
   "outputs": [],
   "source": []
  },
  {
   "cell_type": "code",
   "execution_count": null,
   "metadata": {},
   "outputs": [],
   "source": []
  },
  {
   "cell_type": "code",
   "execution_count": null,
   "metadata": {},
   "outputs": [],
   "source": []
  },
  {
   "cell_type": "code",
   "execution_count": null,
   "metadata": {},
   "outputs": [
    {
     "ename": "ValueError",
     "evalue": "Found input variables with inconsistent numbers of samples: [438557, 1]",
     "output_type": "error",
     "traceback": [
      "\u001b[1;31m---------------------------------------------------------------------------\u001b[0m",
      "\u001b[1;31mValueError\u001b[0m                                Traceback (most recent call last)",
      "Cell \u001b[1;32mIn[62], line 1\u001b[0m\n\u001b[1;32m----> 1\u001b[0m x_train,x_temp,y_train,y_temp \u001b[38;5;241m=\u001b[39m train_test_split(x,y,test_size\u001b[38;5;241m=\u001b[39m\u001b[38;5;241m0.2\u001b[39m,random_state\u001b[38;5;241m=\u001b[39m\u001b[38;5;241m42\u001b[39m)\n\u001b[0;32m      2\u001b[0m x_test,x_val, y_test,y_val\u001b[38;5;241m=\u001b[39mtrain_test_split(x_temp,y_temp,test_size\u001b[38;5;241m=\u001b[39m\u001b[38;5;241m0.5\u001b[39m,random_state\u001b[38;5;241m=\u001b[39m\u001b[38;5;241m42\u001b[39m)\n",
      "File \u001b[1;32mc:\\Users\\musli\\anaconda3\\Lib\\site-packages\\sklearn\\model_selection\\_split.py:2559\u001b[0m, in \u001b[0;36mtrain_test_split\u001b[1;34m(test_size, train_size, random_state, shuffle, stratify, *arrays)\u001b[0m\n\u001b[0;32m   2556\u001b[0m \u001b[38;5;28;01mif\u001b[39;00m n_arrays \u001b[38;5;241m==\u001b[39m \u001b[38;5;241m0\u001b[39m:\n\u001b[0;32m   2557\u001b[0m     \u001b[38;5;28;01mraise\u001b[39;00m \u001b[38;5;167;01mValueError\u001b[39;00m(\u001b[38;5;124m\"\u001b[39m\u001b[38;5;124mAt least one array required as input\u001b[39m\u001b[38;5;124m\"\u001b[39m)\n\u001b[1;32m-> 2559\u001b[0m arrays \u001b[38;5;241m=\u001b[39m indexable(\u001b[38;5;241m*\u001b[39marrays)\n\u001b[0;32m   2561\u001b[0m n_samples \u001b[38;5;241m=\u001b[39m _num_samples(arrays[\u001b[38;5;241m0\u001b[39m])\n\u001b[0;32m   2562\u001b[0m n_train, n_test \u001b[38;5;241m=\u001b[39m _validate_shuffle_split(\n\u001b[0;32m   2563\u001b[0m     n_samples, test_size, train_size, default_test_size\u001b[38;5;241m=\u001b[39m\u001b[38;5;241m0.25\u001b[39m\n\u001b[0;32m   2564\u001b[0m )\n",
      "File \u001b[1;32mc:\\Users\\musli\\anaconda3\\Lib\\site-packages\\sklearn\\utils\\validation.py:443\u001b[0m, in \u001b[0;36mindexable\u001b[1;34m(*iterables)\u001b[0m\n\u001b[0;32m    424\u001b[0m \u001b[38;5;250m\u001b[39m\u001b[38;5;124;03m\"\"\"Make arrays indexable for cross-validation.\u001b[39;00m\n\u001b[0;32m    425\u001b[0m \n\u001b[0;32m    426\u001b[0m \u001b[38;5;124;03mChecks consistent length, passes through None, and ensures that everything\u001b[39;00m\n\u001b[1;32m   (...)\u001b[0m\n\u001b[0;32m    439\u001b[0m \u001b[38;5;124;03m    sparse matrix, or dataframe) or `None`.\u001b[39;00m\n\u001b[0;32m    440\u001b[0m \u001b[38;5;124;03m\"\"\"\u001b[39;00m\n\u001b[0;32m    442\u001b[0m result \u001b[38;5;241m=\u001b[39m [_make_indexable(X) \u001b[38;5;28;01mfor\u001b[39;00m X \u001b[38;5;129;01min\u001b[39;00m iterables]\n\u001b[1;32m--> 443\u001b[0m check_consistent_length(\u001b[38;5;241m*\u001b[39mresult)\n\u001b[0;32m    444\u001b[0m \u001b[38;5;28;01mreturn\u001b[39;00m result\n",
      "File \u001b[1;32mc:\\Users\\musli\\anaconda3\\Lib\\site-packages\\sklearn\\utils\\validation.py:397\u001b[0m, in \u001b[0;36mcheck_consistent_length\u001b[1;34m(*arrays)\u001b[0m\n\u001b[0;32m    395\u001b[0m uniques \u001b[38;5;241m=\u001b[39m np\u001b[38;5;241m.\u001b[39munique(lengths)\n\u001b[0;32m    396\u001b[0m \u001b[38;5;28;01mif\u001b[39;00m \u001b[38;5;28mlen\u001b[39m(uniques) \u001b[38;5;241m>\u001b[39m \u001b[38;5;241m1\u001b[39m:\n\u001b[1;32m--> 397\u001b[0m     \u001b[38;5;28;01mraise\u001b[39;00m \u001b[38;5;167;01mValueError\u001b[39;00m(\n\u001b[0;32m    398\u001b[0m         \u001b[38;5;124m\"\u001b[39m\u001b[38;5;124mFound input variables with inconsistent numbers of samples: \u001b[39m\u001b[38;5;132;01m%r\u001b[39;00m\u001b[38;5;124m\"\u001b[39m\n\u001b[0;32m    399\u001b[0m         \u001b[38;5;241m%\u001b[39m [\u001b[38;5;28mint\u001b[39m(l) \u001b[38;5;28;01mfor\u001b[39;00m l \u001b[38;5;129;01min\u001b[39;00m lengths]\n\u001b[0;32m    400\u001b[0m     )\n",
      "\u001b[1;31mValueError\u001b[0m: Found input variables with inconsistent numbers of samples: [438557, 1]"
     ]
    }
   ],
   "source": [
    "x_train,x_temp,y_train,y_temp = train_test_split(x,y,test_size=0.2,random_state=42)\n",
    "x_test,x_val, y_test,y_val=train_test_split(x_temp,y_temp,test_size=0.5,random_state=42)"
   ]
  },
  {
   "cell_type": "code",
   "execution_count": 80,
   "metadata": {},
   "outputs": [
    {
     "ename": "ValueError",
     "evalue": "Found input variables with inconsistent numbers of samples: [438557, 1]",
     "output_type": "error",
     "traceback": [
      "\u001b[1;31m---------------------------------------------------------------------------\u001b[0m",
      "\u001b[1;31mValueError\u001b[0m                                Traceback (most recent call last)",
      "Cell \u001b[1;32mIn[80], line 1\u001b[0m\n\u001b[1;32m----> 1\u001b[0m x_train,x_temp, y_train,y_temp\u001b[38;5;241m=\u001b[39mtrain_test_split(x,y,test_size\u001b[38;5;241m=\u001b[39m\u001b[38;5;241m0.2\u001b[39m,random_state\u001b[38;5;241m=\u001b[39m\u001b[38;5;241m42\u001b[39m)\n\u001b[0;32m      2\u001b[0m x_test,x_val,y_test,y_val\u001b[38;5;241m=\u001b[39mtrain_test_split(x_temp,y_temp,test_size\u001b[38;5;241m=\u001b[39m\u001b[38;5;241m0.5\u001b[39m,random_state\u001b[38;5;241m=\u001b[39m\u001b[38;5;241m42\u001b[39m)\n",
      "File \u001b[1;32mc:\\Users\\musli\\anaconda3\\Lib\\site-packages\\sklearn\\model_selection\\_split.py:2559\u001b[0m, in \u001b[0;36mtrain_test_split\u001b[1;34m(test_size, train_size, random_state, shuffle, stratify, *arrays)\u001b[0m\n\u001b[0;32m   2556\u001b[0m \u001b[38;5;28;01mif\u001b[39;00m n_arrays \u001b[38;5;241m==\u001b[39m \u001b[38;5;241m0\u001b[39m:\n\u001b[0;32m   2557\u001b[0m     \u001b[38;5;28;01mraise\u001b[39;00m \u001b[38;5;167;01mValueError\u001b[39;00m(\u001b[38;5;124m\"\u001b[39m\u001b[38;5;124mAt least one array required as input\u001b[39m\u001b[38;5;124m\"\u001b[39m)\n\u001b[1;32m-> 2559\u001b[0m arrays \u001b[38;5;241m=\u001b[39m indexable(\u001b[38;5;241m*\u001b[39marrays)\n\u001b[0;32m   2561\u001b[0m n_samples \u001b[38;5;241m=\u001b[39m _num_samples(arrays[\u001b[38;5;241m0\u001b[39m])\n\u001b[0;32m   2562\u001b[0m n_train, n_test \u001b[38;5;241m=\u001b[39m _validate_shuffle_split(\n\u001b[0;32m   2563\u001b[0m     n_samples, test_size, train_size, default_test_size\u001b[38;5;241m=\u001b[39m\u001b[38;5;241m0.25\u001b[39m\n\u001b[0;32m   2564\u001b[0m )\n",
      "File \u001b[1;32mc:\\Users\\musli\\anaconda3\\Lib\\site-packages\\sklearn\\utils\\validation.py:443\u001b[0m, in \u001b[0;36mindexable\u001b[1;34m(*iterables)\u001b[0m\n\u001b[0;32m    424\u001b[0m \u001b[38;5;250m\u001b[39m\u001b[38;5;124;03m\"\"\"Make arrays indexable for cross-validation.\u001b[39;00m\n\u001b[0;32m    425\u001b[0m \n\u001b[0;32m    426\u001b[0m \u001b[38;5;124;03mChecks consistent length, passes through None, and ensures that everything\u001b[39;00m\n\u001b[1;32m   (...)\u001b[0m\n\u001b[0;32m    439\u001b[0m \u001b[38;5;124;03m    sparse matrix, or dataframe) or `None`.\u001b[39;00m\n\u001b[0;32m    440\u001b[0m \u001b[38;5;124;03m\"\"\"\u001b[39;00m\n\u001b[0;32m    442\u001b[0m result \u001b[38;5;241m=\u001b[39m [_make_indexable(X) \u001b[38;5;28;01mfor\u001b[39;00m X \u001b[38;5;129;01min\u001b[39;00m iterables]\n\u001b[1;32m--> 443\u001b[0m check_consistent_length(\u001b[38;5;241m*\u001b[39mresult)\n\u001b[0;32m    444\u001b[0m \u001b[38;5;28;01mreturn\u001b[39;00m result\n",
      "File \u001b[1;32mc:\\Users\\musli\\anaconda3\\Lib\\site-packages\\sklearn\\utils\\validation.py:397\u001b[0m, in \u001b[0;36mcheck_consistent_length\u001b[1;34m(*arrays)\u001b[0m\n\u001b[0;32m    395\u001b[0m uniques \u001b[38;5;241m=\u001b[39m np\u001b[38;5;241m.\u001b[39munique(lengths)\n\u001b[0;32m    396\u001b[0m \u001b[38;5;28;01mif\u001b[39;00m \u001b[38;5;28mlen\u001b[39m(uniques) \u001b[38;5;241m>\u001b[39m \u001b[38;5;241m1\u001b[39m:\n\u001b[1;32m--> 397\u001b[0m     \u001b[38;5;28;01mraise\u001b[39;00m \u001b[38;5;167;01mValueError\u001b[39;00m(\n\u001b[0;32m    398\u001b[0m         \u001b[38;5;124m\"\u001b[39m\u001b[38;5;124mFound input variables with inconsistent numbers of samples: \u001b[39m\u001b[38;5;132;01m%r\u001b[39;00m\u001b[38;5;124m\"\u001b[39m\n\u001b[0;32m    399\u001b[0m         \u001b[38;5;241m%\u001b[39m [\u001b[38;5;28mint\u001b[39m(l) \u001b[38;5;28;01mfor\u001b[39;00m l \u001b[38;5;129;01min\u001b[39;00m lengths]\n\u001b[0;32m    400\u001b[0m     )\n",
      "\u001b[1;31mValueError\u001b[0m: Found input variables with inconsistent numbers of samples: [438557, 1]"
     ]
    }
   ],
   "source": [
    "x_train,x_temp, y_train,y_temp=train_test_split(x,y,test_size=0.2,random_state=42)\n",
    "x_test,x_val,y_test,y_val=train_test_split(x_temp,y_temp,test_size=0.5,random_state=42)"
   ]
  },
  {
   "cell_type": "code",
   "execution_count": null,
   "metadata": {},
   "outputs": [],
   "source": []
  }
 ],
 "metadata": {
  "kernelspec": {
   "display_name": "base",
   "language": "python",
   "name": "python3"
  },
  "language_info": {
   "codemirror_mode": {
    "name": "ipython",
    "version": 3
   },
   "file_extension": ".py",
   "mimetype": "text/x-python",
   "name": "python",
   "nbconvert_exporter": "python",
   "pygments_lexer": "ipython3",
   "version": "3.11.3"
  }
 },
 "nbformat": 4,
 "nbformat_minor": 2
}
