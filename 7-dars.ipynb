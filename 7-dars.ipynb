{
 "cells": [
  {
   "cell_type": "markdown",
   "metadata": {},
   "source": [
    "7-dars\n"
   ]
  },
  {
   "cell_type": "code",
   "execution_count": 18,
   "metadata": {},
   "outputs": [],
   "source": [
    "import pandas as pd \n",
    "import numpy as nd \n",
    "import seaborn as sns \n",
    "from sklearn.preprocessing import LabelEncoder, StandardScaler\n",
    "from sklearn.model_selection import train_test_split\n",
    "from sklearn.tree import DecisionTreeRegressor\n",
    "from sklearn.linear_model import LinearRegression \n",
    "from sklearn.ensemble import RandomForestRegressor, RandomForestClassifier\n",
    "from sklearn.metrics import r2_score,mean_squared_error"
   ]
  },
  {
   "cell_type": "code",
   "execution_count": 19,
   "metadata": {},
   "outputs": [],
   "source": [
    "df=pd.read_csv('taxi_trip_pricing.csv')"
   ]
  },
  {
   "cell_type": "code",
   "execution_count": 20,
   "metadata": {},
   "outputs": [
    {
     "name": "stdout",
     "output_type": "stream",
     "text": [
      "<class 'pandas.core.frame.DataFrame'>\n",
      "RangeIndex: 1000 entries, 0 to 999\n",
      "Data columns (total 11 columns):\n",
      " #   Column                 Non-Null Count  Dtype  \n",
      "---  ------                 --------------  -----  \n",
      " 0   Trip_Distance_km       950 non-null    float64\n",
      " 1   Time_of_Day            950 non-null    object \n",
      " 2   Day_of_Week            950 non-null    object \n",
      " 3   Passenger_Count        950 non-null    float64\n",
      " 4   Traffic_Conditions     950 non-null    object \n",
      " 5   Weather                950 non-null    object \n",
      " 6   Base_Fare              950 non-null    float64\n",
      " 7   Per_Km_Rate            950 non-null    float64\n",
      " 8   Per_Minute_Rate        950 non-null    float64\n",
      " 9   Trip_Duration_Minutes  950 non-null    float64\n",
      " 10  Trip_Price             951 non-null    float64\n",
      "dtypes: float64(7), object(4)\n",
      "memory usage: 86.1+ KB\n"
     ]
    }
   ],
   "source": [
    "df.info()"
   ]
  },
  {
   "cell_type": "code",
   "execution_count": 21,
   "metadata": {},
   "outputs": [
    {
     "data": {
      "text/plain": [
       "Trip_Distance_km         50\n",
       "Time_of_Day              50\n",
       "Day_of_Week              50\n",
       "Passenger_Count          50\n",
       "Traffic_Conditions       50\n",
       "Weather                  50\n",
       "Base_Fare                50\n",
       "Per_Km_Rate              50\n",
       "Per_Minute_Rate          50\n",
       "Trip_Duration_Minutes    50\n",
       "Trip_Price               49\n",
       "dtype: int64"
      ]
     },
     "execution_count": 21,
     "metadata": {},
     "output_type": "execute_result"
    }
   ],
   "source": [
    "df.isnull().sum()"
   ]
  },
  {
   "cell_type": "code",
   "execution_count": 22,
   "metadata": {},
   "outputs": [],
   "source": [
    "for col in df.columns:\n",
    "    if df[col].dtype =='object':\n",
    "        df[col].fillna(df[col].mode()[0],inplace=True)\n",
    "    else:\n",
    "        df[col].fillna(df[col].mean(), inplace=True)"
   ]
  },
  {
   "cell_type": "code",
   "execution_count": 23,
   "metadata": {},
   "outputs": [
    {
     "name": "stdout",
     "output_type": "stream",
     "text": [
      "<class 'pandas.core.frame.DataFrame'>\n",
      "RangeIndex: 1000 entries, 0 to 999\n",
      "Data columns (total 11 columns):\n",
      " #   Column                 Non-Null Count  Dtype  \n",
      "---  ------                 --------------  -----  \n",
      " 0   Trip_Distance_km       1000 non-null   float64\n",
      " 1   Time_of_Day            1000 non-null   object \n",
      " 2   Day_of_Week            1000 non-null   object \n",
      " 3   Passenger_Count        1000 non-null   float64\n",
      " 4   Traffic_Conditions     1000 non-null   object \n",
      " 5   Weather                1000 non-null   object \n",
      " 6   Base_Fare              1000 non-null   float64\n",
      " 7   Per_Km_Rate            1000 non-null   float64\n",
      " 8   Per_Minute_Rate        1000 non-null   float64\n",
      " 9   Trip_Duration_Minutes  1000 non-null   float64\n",
      " 10  Trip_Price             1000 non-null   float64\n",
      "dtypes: float64(7), object(4)\n",
      "memory usage: 86.1+ KB\n"
     ]
    }
   ],
   "source": [
    "df.info()"
   ]
  },
  {
   "cell_type": "code",
   "execution_count": 24,
   "metadata": {},
   "outputs": [],
   "source": [
    "import klib"
   ]
  },
  {
   "cell_type": "code",
   "execution_count": 25,
   "metadata": {},
   "outputs": [
    {
     "name": "stdout",
     "output_type": "stream",
     "text": [
      "Shape of cleaned data: (1000, 11) - Remaining NAs: 0\n",
      "\n",
      "\n",
      "Dropped rows: 0\n",
      "     of which 0 duplicates. (Rows (first 150 shown): [])\n",
      "\n",
      "Dropped columns: 0\n",
      "     of which 0 single valued.     Columns: []\n",
      "Dropped missing values: 0\n",
      "Reduced memory by at least: 0.05 MB (-62.5%)\n",
      "\n"
     ]
    }
   ],
   "source": [
    "df=klib.data_cleaning(df)"
   ]
  },
  {
   "cell_type": "code",
   "execution_count": 26,
   "metadata": {},
   "outputs": [
    {
     "name": "stdout",
     "output_type": "stream",
     "text": [
      "<class 'pandas.core.frame.DataFrame'>\n",
      "RangeIndex: 1000 entries, 0 to 999\n",
      "Data columns (total 11 columns):\n",
      " #   Column                 Non-Null Count  Dtype   \n",
      "---  ------                 --------------  -----   \n",
      " 0   trip_distance_km       1000 non-null   float32 \n",
      " 1   time_of_day            1000 non-null   category\n",
      " 2   day_of_week            1000 non-null   category\n",
      " 3   passenger_count        1000 non-null   float32 \n",
      " 4   traffic_conditions     1000 non-null   category\n",
      " 5   weather                1000 non-null   category\n",
      " 6   base_fare              1000 non-null   float32 \n",
      " 7   per_km_rate            1000 non-null   float32 \n",
      " 8   per_minute_rate        1000 non-null   float32 \n",
      " 9   trip_duration_minutes  1000 non-null   float32 \n",
      " 10  trip_price             1000 non-null   float32 \n",
      "dtypes: category(4), float32(7)\n",
      "memory usage: 32.0 KB\n"
     ]
    }
   ],
   "source": [
    "df.info()"
   ]
  },
  {
   "cell_type": "code",
   "execution_count": 27,
   "metadata": {},
   "outputs": [
    {
     "data": {
      "text/plain": [
       "trip_distance_km         868\n",
       "time_of_day                4\n",
       "day_of_week                2\n",
       "passenger_count            5\n",
       "traffic_conditions         3\n",
       "weather                    3\n",
       "base_fare                291\n",
       "per_km_rate              151\n",
       "per_minute_rate           42\n",
       "trip_duration_minutes    918\n",
       "trip_price               952\n",
       "dtype: int64"
      ]
     },
     "execution_count": 27,
     "metadata": {},
     "output_type": "execute_result"
    }
   ],
   "source": [
    "df.nunique()"
   ]
  },
  {
   "cell_type": "code",
   "execution_count": 28,
   "metadata": {},
   "outputs": [],
   "source": [
    "cat_col=df.select_dtypes(include=['category']).columns"
   ]
  },
  {
   "cell_type": "code",
   "execution_count": 29,
   "metadata": {},
   "outputs": [],
   "source": [
    " for col in cat_col:\n",
    "    cardinality=len(df[col].unique())\n",
    "    if cardinality>=5:\n",
    "        le=LabelEncoder()\n",
    "        df[col]=le.fit_transform(df[col])\n",
    "    else:\n",
    "        df=pd.get_dummies(df,columns=[col],dtype=int, drop_first=True)\n",
    "    "
   ]
  },
  {
   "cell_type": "code",
   "execution_count": 30,
   "metadata": {},
   "outputs": [
    {
     "name": "stdout",
     "output_type": "stream",
     "text": [
      "<class 'pandas.core.frame.DataFrame'>\n",
      "RangeIndex: 1000 entries, 0 to 999\n",
      "Data columns (total 15 columns):\n",
      " #   Column                     Non-Null Count  Dtype  \n",
      "---  ------                     --------------  -----  \n",
      " 0   trip_distance_km           1000 non-null   float32\n",
      " 1   passenger_count            1000 non-null   float32\n",
      " 2   base_fare                  1000 non-null   float32\n",
      " 3   per_km_rate                1000 non-null   float32\n",
      " 4   per_minute_rate            1000 non-null   float32\n",
      " 5   trip_duration_minutes      1000 non-null   float32\n",
      " 6   trip_price                 1000 non-null   float32\n",
      " 7   time_of_day_Evening        1000 non-null   int32  \n",
      " 8   time_of_day_Morning        1000 non-null   int32  \n",
      " 9   time_of_day_Night          1000 non-null   int32  \n",
      " 10  day_of_week_Weekend        1000 non-null   int32  \n",
      " 11  traffic_conditions_Low     1000 non-null   int32  \n",
      " 12  traffic_conditions_Medium  1000 non-null   int32  \n",
      " 13  weather_Rain               1000 non-null   int32  \n",
      " 14  weather_Snow               1000 non-null   int32  \n",
      "dtypes: float32(7), int32(8)\n",
      "memory usage: 58.7 KB\n"
     ]
    }
   ],
   "source": [
    "df.info()"
   ]
  },
  {
   "cell_type": "code",
   "execution_count": 32,
   "metadata": {},
   "outputs": [],
   "source": [
    "num_col=df.select_dtypes(include=['float32','int32']).columns"
   ]
  },
  {
   "cell_type": "code",
   "execution_count": 33,
   "metadata": {},
   "outputs": [
    {
     "data": {
      "text/plain": [
       "Index(['trip_distance_km', 'passenger_count', 'base_fare', 'per_km_rate',\n",
       "       'per_minute_rate', 'trip_duration_minutes', 'trip_price',\n",
       "       'time_of_day_Evening', 'time_of_day_Morning', 'time_of_day_Night',\n",
       "       'day_of_week_Weekend', 'traffic_conditions_Low',\n",
       "       'traffic_conditions_Medium', 'weather_Rain', 'weather_Snow'],\n",
       "      dtype='object')"
      ]
     },
     "execution_count": 33,
     "metadata": {},
     "output_type": "execute_result"
    }
   ],
   "source": [
    "num_col\n"
   ]
  },
  {
   "cell_type": "code",
   "execution_count": 34,
   "metadata": {},
   "outputs": [],
   "source": [
    "scaler=StandardScaler()"
   ]
  },
  {
   "cell_type": "code",
   "execution_count": null,
   "metadata": {},
   "outputs": [
    {
     "data": {
      "text/html": [
       "<div>\n",
       "<style scoped>\n",
       "    .dataframe tbody tr th:only-of-type {\n",
       "        vertical-align: middle;\n",
       "    }\n",
       "\n",
       "    .dataframe tbody tr th {\n",
       "        vertical-align: top;\n",
       "    }\n",
       "\n",
       "    .dataframe thead th {\n",
       "        text-align: right;\n",
       "    }\n",
       "</style>\n",
       "<table border=\"1\" class=\"dataframe\">\n",
       "  <thead>\n",
       "    <tr style=\"text-align: right;\">\n",
       "      <th></th>\n",
       "      <th>trip_distance_km</th>\n",
       "      <th>passenger_count</th>\n",
       "      <th>base_fare</th>\n",
       "      <th>per_km_rate</th>\n",
       "      <th>per_minute_rate</th>\n",
       "      <th>trip_duration_minutes</th>\n",
       "      <th>trip_price</th>\n",
       "      <th>time_of_day_Evening</th>\n",
       "      <th>time_of_day_Morning</th>\n",
       "      <th>time_of_day_Night</th>\n",
       "      <th>day_of_week_Weekend</th>\n",
       "      <th>traffic_conditions_Low</th>\n",
       "      <th>traffic_conditions_Medium</th>\n",
       "      <th>weather_Rain</th>\n",
       "      <th>weather_Snow</th>\n",
       "    </tr>\n",
       "  </thead>\n",
       "  <tbody>\n",
       "    <tr>\n",
       "      <th>0</th>\n",
       "      <td>-3.981495e-01</td>\n",
       "      <td>0.487214</td>\n",
       "      <td>6.725451e-02</td>\n",
       "      <td>-1.034878</td>\n",
       "      <td>0.240523</td>\n",
       "      <td>-0.264915</td>\n",
       "      <td>-5.225589e-01</td>\n",
       "      <td>-0.504683</td>\n",
       "      <td>1.591719</td>\n",
       "      <td>-0.320212</td>\n",
       "      <td>-0.646869</td>\n",
       "      <td>1.112266</td>\n",
       "      <td>-0.768001</td>\n",
       "      <td>-0.541905</td>\n",
       "      <td>-0.243561</td>\n",
       "    </tr>\n",
       "    <tr>\n",
       "      <th>1</th>\n",
       "      <td>1.058191e+00</td>\n",
       "      <td>-1.375375</td>\n",
       "      <td>6.018949e-08</td>\n",
       "      <td>-1.464767</td>\n",
       "      <td>1.217384</td>\n",
       "      <td>-0.687916</td>\n",
       "      <td>4.018263e-08</td>\n",
       "      <td>-0.504683</td>\n",
       "      <td>-0.628252</td>\n",
       "      <td>-0.320212</td>\n",
       "      <td>-0.646869</td>\n",
       "      <td>-0.899065</td>\n",
       "      <td>-0.768001</td>\n",
       "      <td>-0.541905</td>\n",
       "      <td>-0.243561</td>\n",
       "    </tr>\n",
       "    <tr>\n",
       "      <th>2</th>\n",
       "      <td>5.053590e-01</td>\n",
       "      <td>-1.375375</td>\n",
       "      <td>-9.472762e-01</td>\n",
       "      <td>-0.055684</td>\n",
       "      <td>-1.269171</td>\n",
       "      <td>-0.793268</td>\n",
       "      <td>-1.006862e-01</td>\n",
       "      <td>1.981441</td>\n",
       "      <td>-0.628252</td>\n",
       "      <td>-0.320212</td>\n",
       "      <td>1.545908</td>\n",
       "      <td>-0.899065</td>\n",
       "      <td>-0.768001</td>\n",
       "      <td>-0.541905</td>\n",
       "      <td>-0.243561</td>\n",
       "    </tr>\n",
       "    <tr>\n",
       "      <th>3</th>\n",
       "      <td>1.680904e-01</td>\n",
       "      <td>1.418509</td>\n",
       "      <td>-2.712037e-02</td>\n",
       "      <td>-1.727478</td>\n",
       "      <td>-1.269171</td>\n",
       "      <td>1.746020</td>\n",
       "      <td>-5.173010e-01</td>\n",
       "      <td>1.981441</td>\n",
       "      <td>-0.628252</td>\n",
       "      <td>-0.320212</td>\n",
       "      <td>-0.646869</td>\n",
       "      <td>1.112266</td>\n",
       "      <td>-0.768001</td>\n",
       "      <td>-0.541905</td>\n",
       "      <td>-0.243561</td>\n",
       "    </tr>\n",
       "    <tr>\n",
       "      <th>4</th>\n",
       "      <td>1.051246e-08</td>\n",
       "      <td>0.487214</td>\n",
       "      <td>-6.759482e-01</td>\n",
       "      <td>-1.440884</td>\n",
       "      <td>0.240523</td>\n",
       "      <td>-1.260326</td>\n",
       "      <td>-1.045930e+00</td>\n",
       "      <td>1.981441</td>\n",
       "      <td>-0.628252</td>\n",
       "      <td>-0.320212</td>\n",
       "      <td>-0.646869</td>\n",
       "      <td>-0.899065</td>\n",
       "      <td>-0.768001</td>\n",
       "      <td>-0.541905</td>\n",
       "      <td>-0.243561</td>\n",
       "    </tr>\n",
       "  </tbody>\n",
       "</table>\n",
       "</div>"
      ],
      "text/plain": [
       "   trip_distance_km  passenger_count     base_fare  per_km_rate  \\\n",
       "0     -3.981495e-01         0.487214  6.725451e-02    -1.034878   \n",
       "1      1.058191e+00        -1.375375  6.018949e-08    -1.464767   \n",
       "2      5.053590e-01        -1.375375 -9.472762e-01    -0.055684   \n",
       "3      1.680904e-01         1.418509 -2.712037e-02    -1.727478   \n",
       "4      1.051246e-08         0.487214 -6.759482e-01    -1.440884   \n",
       "\n",
       "   per_minute_rate  trip_duration_minutes    trip_price  time_of_day_Evening  \\\n",
       "0         0.240523              -0.264915 -5.225589e-01            -0.504683   \n",
       "1         1.217384              -0.687916  4.018263e-08            -0.504683   \n",
       "2        -1.269171              -0.793268 -1.006862e-01             1.981441   \n",
       "3        -1.269171               1.746020 -5.173010e-01             1.981441   \n",
       "4         0.240523              -1.260326 -1.045930e+00             1.981441   \n",
       "\n",
       "   time_of_day_Morning  time_of_day_Night  day_of_week_Weekend  \\\n",
       "0             1.591719          -0.320212            -0.646869   \n",
       "1            -0.628252          -0.320212            -0.646869   \n",
       "2            -0.628252          -0.320212             1.545908   \n",
       "3            -0.628252          -0.320212            -0.646869   \n",
       "4            -0.628252          -0.320212            -0.646869   \n",
       "\n",
       "   traffic_conditions_Low  traffic_conditions_Medium  weather_Rain  \\\n",
       "0                1.112266                  -0.768001     -0.541905   \n",
       "1               -0.899065                  -0.768001     -0.541905   \n",
       "2               -0.899065                  -0.768001     -0.541905   \n",
       "3                1.112266                  -0.768001     -0.541905   \n",
       "4               -0.899065                  -0.768001     -0.541905   \n",
       "\n",
       "   weather_Snow  \n",
       "0     -0.243561  \n",
       "1     -0.243561  \n",
       "2     -0.243561  \n",
       "3     -0.243561  \n",
       "4     -0.243561  "
      ]
     },
     "execution_count": 38,
     "metadata": {},
     "output_type": "execute_result"
    }
   ],
   "source": [
    "df[num_col]=scaler.fit_transform(df[num_col])    #num_col ga olib numerical columnlarni alohida qilganimiz uchun data numpy ga o'tib qolmadi, headers ham birga chiqdi. \n",
    "df.head()"
   ]
  },
  {
   "cell_type": "code",
   "execution_count": 39,
   "metadata": {},
   "outputs": [
    {
     "name": "stdout",
     "output_type": "stream",
     "text": [
      "<class 'pandas.core.frame.DataFrame'>\n",
      "RangeIndex: 1000 entries, 0 to 999\n",
      "Data columns (total 15 columns):\n",
      " #   Column                     Non-Null Count  Dtype  \n",
      "---  ------                     --------------  -----  \n",
      " 0   trip_distance_km           1000 non-null   float64\n",
      " 1   passenger_count            1000 non-null   float64\n",
      " 2   base_fare                  1000 non-null   float64\n",
      " 3   per_km_rate                1000 non-null   float64\n",
      " 4   per_minute_rate            1000 non-null   float64\n",
      " 5   trip_duration_minutes      1000 non-null   float64\n",
      " 6   trip_price                 1000 non-null   float64\n",
      " 7   time_of_day_Evening        1000 non-null   float64\n",
      " 8   time_of_day_Morning        1000 non-null   float64\n",
      " 9   time_of_day_Night          1000 non-null   float64\n",
      " 10  day_of_week_Weekend        1000 non-null   float64\n",
      " 11  traffic_conditions_Low     1000 non-null   float64\n",
      " 12  traffic_conditions_Medium  1000 non-null   float64\n",
      " 13  weather_Rain               1000 non-null   float64\n",
      " 14  weather_Snow               1000 non-null   float64\n",
      "dtypes: float64(15)\n",
      "memory usage: 117.3 KB\n"
     ]
    }
   ],
   "source": [
    "df.info()"
   ]
  },
  {
   "cell_type": "code",
   "execution_count": 41,
   "metadata": {},
   "outputs": [],
   "source": [
    "x=df.drop(columns=['trip_price'])"
   ]
  },
  {
   "cell_type": "code",
   "execution_count": 43,
   "metadata": {},
   "outputs": [
    {
     "data": {
      "text/html": [
       "<div>\n",
       "<style scoped>\n",
       "    .dataframe tbody tr th:only-of-type {\n",
       "        vertical-align: middle;\n",
       "    }\n",
       "\n",
       "    .dataframe tbody tr th {\n",
       "        vertical-align: top;\n",
       "    }\n",
       "\n",
       "    .dataframe thead th {\n",
       "        text-align: right;\n",
       "    }\n",
       "</style>\n",
       "<table border=\"1\" class=\"dataframe\">\n",
       "  <thead>\n",
       "    <tr style=\"text-align: right;\">\n",
       "      <th></th>\n",
       "      <th>trip_distance_km</th>\n",
       "      <th>passenger_count</th>\n",
       "      <th>base_fare</th>\n",
       "      <th>per_km_rate</th>\n",
       "      <th>per_minute_rate</th>\n",
       "      <th>trip_duration_minutes</th>\n",
       "      <th>time_of_day_Evening</th>\n",
       "      <th>time_of_day_Morning</th>\n",
       "      <th>time_of_day_Night</th>\n",
       "      <th>day_of_week_Weekend</th>\n",
       "      <th>traffic_conditions_Low</th>\n",
       "      <th>traffic_conditions_Medium</th>\n",
       "      <th>weather_Rain</th>\n",
       "      <th>weather_Snow</th>\n",
       "    </tr>\n",
       "  </thead>\n",
       "  <tbody>\n",
       "    <tr>\n",
       "      <th>0</th>\n",
       "      <td>-3.981495e-01</td>\n",
       "      <td>0.487214</td>\n",
       "      <td>6.725451e-02</td>\n",
       "      <td>-1.034878e+00</td>\n",
       "      <td>2.405227e-01</td>\n",
       "      <td>-0.264915</td>\n",
       "      <td>-0.504683</td>\n",
       "      <td>1.591719</td>\n",
       "      <td>-0.320212</td>\n",
       "      <td>-0.646869</td>\n",
       "      <td>1.112266</td>\n",
       "      <td>-0.768001</td>\n",
       "      <td>-0.541905</td>\n",
       "      <td>-0.243561</td>\n",
       "    </tr>\n",
       "    <tr>\n",
       "      <th>1</th>\n",
       "      <td>1.058191e+00</td>\n",
       "      <td>-1.375375</td>\n",
       "      <td>6.018949e-08</td>\n",
       "      <td>-1.464767e+00</td>\n",
       "      <td>1.217384e+00</td>\n",
       "      <td>-0.687916</td>\n",
       "      <td>-0.504683</td>\n",
       "      <td>-0.628252</td>\n",
       "      <td>-0.320212</td>\n",
       "      <td>-0.646869</td>\n",
       "      <td>-0.899065</td>\n",
       "      <td>-0.768001</td>\n",
       "      <td>-0.541905</td>\n",
       "      <td>-0.243561</td>\n",
       "    </tr>\n",
       "    <tr>\n",
       "      <th>2</th>\n",
       "      <td>5.053590e-01</td>\n",
       "      <td>-1.375375</td>\n",
       "      <td>-9.472762e-01</td>\n",
       "      <td>-5.568444e-02</td>\n",
       "      <td>-1.269171e+00</td>\n",
       "      <td>-0.793268</td>\n",
       "      <td>1.981441</td>\n",
       "      <td>-0.628252</td>\n",
       "      <td>-0.320212</td>\n",
       "      <td>1.545908</td>\n",
       "      <td>-0.899065</td>\n",
       "      <td>-0.768001</td>\n",
       "      <td>-0.541905</td>\n",
       "      <td>-0.243561</td>\n",
       "    </tr>\n",
       "    <tr>\n",
       "      <th>3</th>\n",
       "      <td>1.680904e-01</td>\n",
       "      <td>1.418509</td>\n",
       "      <td>-2.712037e-02</td>\n",
       "      <td>-1.727478e+00</td>\n",
       "      <td>-1.269171e+00</td>\n",
       "      <td>1.746020</td>\n",
       "      <td>1.981441</td>\n",
       "      <td>-0.628252</td>\n",
       "      <td>-0.320212</td>\n",
       "      <td>-0.646869</td>\n",
       "      <td>1.112266</td>\n",
       "      <td>-0.768001</td>\n",
       "      <td>-0.541905</td>\n",
       "      <td>-0.243561</td>\n",
       "    </tr>\n",
       "    <tr>\n",
       "      <th>4</th>\n",
       "      <td>1.051246e-08</td>\n",
       "      <td>0.487214</td>\n",
       "      <td>-6.759482e-01</td>\n",
       "      <td>-1.440884e+00</td>\n",
       "      <td>2.405227e-01</td>\n",
       "      <td>-1.260326</td>\n",
       "      <td>1.981441</td>\n",
       "      <td>-0.628252</td>\n",
       "      <td>-0.320212</td>\n",
       "      <td>-0.646869</td>\n",
       "      <td>-0.899065</td>\n",
       "      <td>-0.768001</td>\n",
       "      <td>-0.541905</td>\n",
       "      <td>-0.243561</td>\n",
       "    </tr>\n",
       "    <tr>\n",
       "      <th>...</th>\n",
       "      <td>...</td>\n",
       "      <td>...</td>\n",
       "      <td>...</td>\n",
       "      <td>...</td>\n",
       "      <td>...</td>\n",
       "      <td>...</td>\n",
       "      <td>...</td>\n",
       "      <td>...</td>\n",
       "      <td>...</td>\n",
       "      <td>...</td>\n",
       "      <td>...</td>\n",
       "      <td>...</td>\n",
       "      <td>...</td>\n",
       "      <td>...</td>\n",
       "    </tr>\n",
       "    <tr>\n",
       "      <th>995</th>\n",
       "      <td>-1.112911e+00</td>\n",
       "      <td>1.418509</td>\n",
       "      <td>-1.312979e+00</td>\n",
       "      <td>-1.464767e+00</td>\n",
       "      <td>1.750217e+00</td>\n",
       "      <td>-0.119019</td>\n",
       "      <td>-0.504683</td>\n",
       "      <td>-0.628252</td>\n",
       "      <td>-0.320212</td>\n",
       "      <td>1.545908</td>\n",
       "      <td>-0.899065</td>\n",
       "      <td>1.302082</td>\n",
       "      <td>-0.541905</td>\n",
       "      <td>-0.243561</td>\n",
       "    </tr>\n",
       "    <tr>\n",
       "      <th>996</th>\n",
       "      <td>9.736158e-01</td>\n",
       "      <td>1.418509</td>\n",
       "      <td>-4.518079e-01</td>\n",
       "      <td>-1.488650e+00</td>\n",
       "      <td>1.363005e-08</td>\n",
       "      <td>-0.005048</td>\n",
       "      <td>-0.504683</td>\n",
       "      <td>-0.628252</td>\n",
       "      <td>3.122929</td>\n",
       "      <td>-0.646869</td>\n",
       "      <td>-0.899065</td>\n",
       "      <td>1.302082</td>\n",
       "      <td>-0.541905</td>\n",
       "      <td>-0.243561</td>\n",
       "    </tr>\n",
       "    <tr>\n",
       "      <th>997</th>\n",
       "      <td>-9.989415e-01</td>\n",
       "      <td>0.487214</td>\n",
       "      <td>-1.678682e+00</td>\n",
       "      <td>1.305633e+00</td>\n",
       "      <td>1.363005e-08</td>\n",
       "      <td>-0.253422</td>\n",
       "      <td>-0.504683</td>\n",
       "      <td>1.591719</td>\n",
       "      <td>-0.320212</td>\n",
       "      <td>-0.646869</td>\n",
       "      <td>1.112266</td>\n",
       "      <td>-0.768001</td>\n",
       "      <td>1.845342</td>\n",
       "      <td>-0.243561</td>\n",
       "    </tr>\n",
       "    <tr>\n",
       "      <th>998</th>\n",
       "      <td>1.056644e+00</td>\n",
       "      <td>-1.375375</td>\n",
       "      <td>-9.826668e-01</td>\n",
       "      <td>-9.871120e-01</td>\n",
       "      <td>-1.091560e+00</td>\n",
       "      <td>1.686321</td>\n",
       "      <td>-0.504683</td>\n",
       "      <td>1.591719</td>\n",
       "      <td>-0.320212</td>\n",
       "      <td>-0.646869</td>\n",
       "      <td>1.112266</td>\n",
       "      <td>-0.768001</td>\n",
       "      <td>-0.541905</td>\n",
       "      <td>-0.243561</td>\n",
       "    </tr>\n",
       "    <tr>\n",
       "      <th>999</th>\n",
       "      <td>-2.176541e-01</td>\n",
       "      <td>0.487214</td>\n",
       "      <td>9.874107e-01</td>\n",
       "      <td>8.327611e-08</td>\n",
       "      <td>-5.587269e-01</td>\n",
       "      <td>-1.035257</td>\n",
       "      <td>-0.504683</td>\n",
       "      <td>1.591719</td>\n",
       "      <td>-0.320212</td>\n",
       "      <td>1.545908</td>\n",
       "      <td>-0.899065</td>\n",
       "      <td>1.302082</td>\n",
       "      <td>-0.541905</td>\n",
       "      <td>-0.243561</td>\n",
       "    </tr>\n",
       "  </tbody>\n",
       "</table>\n",
       "<p>1000 rows × 14 columns</p>\n",
       "</div>"
      ],
      "text/plain": [
       "     trip_distance_km  passenger_count     base_fare   per_km_rate  \\\n",
       "0       -3.981495e-01         0.487214  6.725451e-02 -1.034878e+00   \n",
       "1        1.058191e+00        -1.375375  6.018949e-08 -1.464767e+00   \n",
       "2        5.053590e-01        -1.375375 -9.472762e-01 -5.568444e-02   \n",
       "3        1.680904e-01         1.418509 -2.712037e-02 -1.727478e+00   \n",
       "4        1.051246e-08         0.487214 -6.759482e-01 -1.440884e+00   \n",
       "..                ...              ...           ...           ...   \n",
       "995     -1.112911e+00         1.418509 -1.312979e+00 -1.464767e+00   \n",
       "996      9.736158e-01         1.418509 -4.518079e-01 -1.488650e+00   \n",
       "997     -9.989415e-01         0.487214 -1.678682e+00  1.305633e+00   \n",
       "998      1.056644e+00        -1.375375 -9.826668e-01 -9.871120e-01   \n",
       "999     -2.176541e-01         0.487214  9.874107e-01  8.327611e-08   \n",
       "\n",
       "     per_minute_rate  trip_duration_minutes  time_of_day_Evening  \\\n",
       "0       2.405227e-01              -0.264915            -0.504683   \n",
       "1       1.217384e+00              -0.687916            -0.504683   \n",
       "2      -1.269171e+00              -0.793268             1.981441   \n",
       "3      -1.269171e+00               1.746020             1.981441   \n",
       "4       2.405227e-01              -1.260326             1.981441   \n",
       "..               ...                    ...                  ...   \n",
       "995     1.750217e+00              -0.119019            -0.504683   \n",
       "996     1.363005e-08              -0.005048            -0.504683   \n",
       "997     1.363005e-08              -0.253422            -0.504683   \n",
       "998    -1.091560e+00               1.686321            -0.504683   \n",
       "999    -5.587269e-01              -1.035257            -0.504683   \n",
       "\n",
       "     time_of_day_Morning  time_of_day_Night  day_of_week_Weekend  \\\n",
       "0               1.591719          -0.320212            -0.646869   \n",
       "1              -0.628252          -0.320212            -0.646869   \n",
       "2              -0.628252          -0.320212             1.545908   \n",
       "3              -0.628252          -0.320212            -0.646869   \n",
       "4              -0.628252          -0.320212            -0.646869   \n",
       "..                   ...                ...                  ...   \n",
       "995            -0.628252          -0.320212             1.545908   \n",
       "996            -0.628252           3.122929            -0.646869   \n",
       "997             1.591719          -0.320212            -0.646869   \n",
       "998             1.591719          -0.320212            -0.646869   \n",
       "999             1.591719          -0.320212             1.545908   \n",
       "\n",
       "     traffic_conditions_Low  traffic_conditions_Medium  weather_Rain  \\\n",
       "0                  1.112266                  -0.768001     -0.541905   \n",
       "1                 -0.899065                  -0.768001     -0.541905   \n",
       "2                 -0.899065                  -0.768001     -0.541905   \n",
       "3                  1.112266                  -0.768001     -0.541905   \n",
       "4                 -0.899065                  -0.768001     -0.541905   \n",
       "..                      ...                        ...           ...   \n",
       "995               -0.899065                   1.302082     -0.541905   \n",
       "996               -0.899065                   1.302082     -0.541905   \n",
       "997                1.112266                  -0.768001      1.845342   \n",
       "998                1.112266                  -0.768001     -0.541905   \n",
       "999               -0.899065                   1.302082     -0.541905   \n",
       "\n",
       "     weather_Snow  \n",
       "0       -0.243561  \n",
       "1       -0.243561  \n",
       "2       -0.243561  \n",
       "3       -0.243561  \n",
       "4       -0.243561  \n",
       "..            ...  \n",
       "995     -0.243561  \n",
       "996     -0.243561  \n",
       "997     -0.243561  \n",
       "998     -0.243561  \n",
       "999     -0.243561  \n",
       "\n",
       "[1000 rows x 14 columns]"
      ]
     },
     "execution_count": 43,
     "metadata": {},
     "output_type": "execute_result"
    }
   ],
   "source": [
    "x"
   ]
  },
  {
   "cell_type": "code",
   "execution_count": 45,
   "metadata": {},
   "outputs": [],
   "source": [
    "y=df['trip_price']"
   ]
  },
  {
   "cell_type": "code",
   "execution_count": 46,
   "metadata": {},
   "outputs": [
    {
     "data": {
      "text/plain": [
       "0     -5.225589e-01\n",
       "1      4.018263e-08\n",
       "2     -1.006862e-01\n",
       "3     -5.173010e-01\n",
       "4     -1.045930e+00\n",
       "           ...     \n",
       "995   -5.696497e-01\n",
       "996    1.332163e-01\n",
       "997   -6.021328e-01\n",
       "998    1.098800e-01\n",
       "999   -2.897973e-01\n",
       "Name: trip_price, Length: 1000, dtype: float64"
      ]
     },
     "execution_count": 46,
     "metadata": {},
     "output_type": "execute_result"
    }
   ],
   "source": [
    "y"
   ]
  },
  {
   "cell_type": "code",
   "execution_count": 47,
   "metadata": {},
   "outputs": [],
   "source": [
    "x_train,x_temp,y_train,y_temp=train_test_split(x,y,test_size=0.2,random_state=42)\n",
    "x_test,x_val,y_test,y_val=train_test_split(x_temp,y_temp,test_size=0.5,random_state=42)"
   ]
  },
  {
   "cell_type": "code",
   "execution_count": 49,
   "metadata": {},
   "outputs": [
    {
     "data": {
      "text/plain": [
       "(800, 14)"
      ]
     },
     "execution_count": 49,
     "metadata": {},
     "output_type": "execute_result"
    }
   ],
   "source": [
    "x_train.shape"
   ]
  },
  {
   "cell_type": "code",
   "execution_count": 50,
   "metadata": {},
   "outputs": [
    {
     "data": {
      "text/plain": [
       "(800,)"
      ]
     },
     "execution_count": 50,
     "metadata": {},
     "output_type": "execute_result"
    }
   ],
   "source": [
    "y_train.shape"
   ]
  },
  {
   "cell_type": "code",
   "execution_count": 51,
   "metadata": {},
   "outputs": [
    {
     "data": {
      "text/plain": [
       "(100, 14)"
      ]
     },
     "execution_count": 51,
     "metadata": {},
     "output_type": "execute_result"
    }
   ],
   "source": [
    "x_test.shape"
   ]
  },
  {
   "cell_type": "code",
   "execution_count": 52,
   "metadata": {},
   "outputs": [
    {
     "data": {
      "text/plain": [
       "(100,)"
      ]
     },
     "execution_count": 52,
     "metadata": {},
     "output_type": "execute_result"
    }
   ],
   "source": [
    "y_test.shape"
   ]
  },
  {
   "cell_type": "code",
   "execution_count": 53,
   "metadata": {},
   "outputs": [],
   "source": [
    "model=LinearRegression()"
   ]
  },
  {
   "cell_type": "code",
   "execution_count": 54,
   "metadata": {},
   "outputs": [
    {
     "data": {
      "text/html": [
       "<style>#sk-container-id-1 {color: black;background-color: white;}#sk-container-id-1 pre{padding: 0;}#sk-container-id-1 div.sk-toggleable {background-color: white;}#sk-container-id-1 label.sk-toggleable__label {cursor: pointer;display: block;width: 100%;margin-bottom: 0;padding: 0.3em;box-sizing: border-box;text-align: center;}#sk-container-id-1 label.sk-toggleable__label-arrow:before {content: \"▸\";float: left;margin-right: 0.25em;color: #696969;}#sk-container-id-1 label.sk-toggleable__label-arrow:hover:before {color: black;}#sk-container-id-1 div.sk-estimator:hover label.sk-toggleable__label-arrow:before {color: black;}#sk-container-id-1 div.sk-toggleable__content {max-height: 0;max-width: 0;overflow: hidden;text-align: left;background-color: #f0f8ff;}#sk-container-id-1 div.sk-toggleable__content pre {margin: 0.2em;color: black;border-radius: 0.25em;background-color: #f0f8ff;}#sk-container-id-1 input.sk-toggleable__control:checked~div.sk-toggleable__content {max-height: 200px;max-width: 100%;overflow: auto;}#sk-container-id-1 input.sk-toggleable__control:checked~label.sk-toggleable__label-arrow:before {content: \"▾\";}#sk-container-id-1 div.sk-estimator input.sk-toggleable__control:checked~label.sk-toggleable__label {background-color: #d4ebff;}#sk-container-id-1 div.sk-label input.sk-toggleable__control:checked~label.sk-toggleable__label {background-color: #d4ebff;}#sk-container-id-1 input.sk-hidden--visually {border: 0;clip: rect(1px 1px 1px 1px);clip: rect(1px, 1px, 1px, 1px);height: 1px;margin: -1px;overflow: hidden;padding: 0;position: absolute;width: 1px;}#sk-container-id-1 div.sk-estimator {font-family: monospace;background-color: #f0f8ff;border: 1px dotted black;border-radius: 0.25em;box-sizing: border-box;margin-bottom: 0.5em;}#sk-container-id-1 div.sk-estimator:hover {background-color: #d4ebff;}#sk-container-id-1 div.sk-parallel-item::after {content: \"\";width: 100%;border-bottom: 1px solid gray;flex-grow: 1;}#sk-container-id-1 div.sk-label:hover label.sk-toggleable__label {background-color: #d4ebff;}#sk-container-id-1 div.sk-serial::before {content: \"\";position: absolute;border-left: 1px solid gray;box-sizing: border-box;top: 0;bottom: 0;left: 50%;z-index: 0;}#sk-container-id-1 div.sk-serial {display: flex;flex-direction: column;align-items: center;background-color: white;padding-right: 0.2em;padding-left: 0.2em;position: relative;}#sk-container-id-1 div.sk-item {position: relative;z-index: 1;}#sk-container-id-1 div.sk-parallel {display: flex;align-items: stretch;justify-content: center;background-color: white;position: relative;}#sk-container-id-1 div.sk-item::before, #sk-container-id-1 div.sk-parallel-item::before {content: \"\";position: absolute;border-left: 1px solid gray;box-sizing: border-box;top: 0;bottom: 0;left: 50%;z-index: -1;}#sk-container-id-1 div.sk-parallel-item {display: flex;flex-direction: column;z-index: 1;position: relative;background-color: white;}#sk-container-id-1 div.sk-parallel-item:first-child::after {align-self: flex-end;width: 50%;}#sk-container-id-1 div.sk-parallel-item:last-child::after {align-self: flex-start;width: 50%;}#sk-container-id-1 div.sk-parallel-item:only-child::after {width: 0;}#sk-container-id-1 div.sk-dashed-wrapped {border: 1px dashed gray;margin: 0 0.4em 0.5em 0.4em;box-sizing: border-box;padding-bottom: 0.4em;background-color: white;}#sk-container-id-1 div.sk-label label {font-family: monospace;font-weight: bold;display: inline-block;line-height: 1.2em;}#sk-container-id-1 div.sk-label-container {text-align: center;}#sk-container-id-1 div.sk-container {/* jupyter's `normalize.less` sets `[hidden] { display: none; }` but bootstrap.min.css set `[hidden] { display: none !important; }` so we also need the `!important` here to be able to override the default hidden behavior on the sphinx rendered scikit-learn.org. See: https://github.com/scikit-learn/scikit-learn/issues/21755 */display: inline-block !important;position: relative;}#sk-container-id-1 div.sk-text-repr-fallback {display: none;}</style><div id=\"sk-container-id-1\" class=\"sk-top-container\"><div class=\"sk-text-repr-fallback\"><pre>LinearRegression()</pre><b>In a Jupyter environment, please rerun this cell to show the HTML representation or trust the notebook. <br />On GitHub, the HTML representation is unable to render, please try loading this page with nbviewer.org.</b></div><div class=\"sk-container\" hidden><div class=\"sk-item\"><div class=\"sk-estimator sk-toggleable\"><input class=\"sk-toggleable__control sk-hidden--visually\" id=\"sk-estimator-id-1\" type=\"checkbox\" checked><label for=\"sk-estimator-id-1\" class=\"sk-toggleable__label sk-toggleable__label-arrow\">LinearRegression</label><div class=\"sk-toggleable__content\"><pre>LinearRegression()</pre></div></div></div></div></div>"
      ],
      "text/plain": [
       "LinearRegression()"
      ]
     },
     "execution_count": 54,
     "metadata": {},
     "output_type": "execute_result"
    }
   ],
   "source": [
    "model"
   ]
  },
  {
   "cell_type": "code",
   "execution_count": 56,
   "metadata": {},
   "outputs": [],
   "source": [
    "lr=model.fit(x_train,y_train)"
   ]
  },
  {
   "cell_type": "code",
   "execution_count": 57,
   "metadata": {},
   "outputs": [
    {
     "data": {
      "text/html": [
       "<style>#sk-container-id-2 {color: black;background-color: white;}#sk-container-id-2 pre{padding: 0;}#sk-container-id-2 div.sk-toggleable {background-color: white;}#sk-container-id-2 label.sk-toggleable__label {cursor: pointer;display: block;width: 100%;margin-bottom: 0;padding: 0.3em;box-sizing: border-box;text-align: center;}#sk-container-id-2 label.sk-toggleable__label-arrow:before {content: \"▸\";float: left;margin-right: 0.25em;color: #696969;}#sk-container-id-2 label.sk-toggleable__label-arrow:hover:before {color: black;}#sk-container-id-2 div.sk-estimator:hover label.sk-toggleable__label-arrow:before {color: black;}#sk-container-id-2 div.sk-toggleable__content {max-height: 0;max-width: 0;overflow: hidden;text-align: left;background-color: #f0f8ff;}#sk-container-id-2 div.sk-toggleable__content pre {margin: 0.2em;color: black;border-radius: 0.25em;background-color: #f0f8ff;}#sk-container-id-2 input.sk-toggleable__control:checked~div.sk-toggleable__content {max-height: 200px;max-width: 100%;overflow: auto;}#sk-container-id-2 input.sk-toggleable__control:checked~label.sk-toggleable__label-arrow:before {content: \"▾\";}#sk-container-id-2 div.sk-estimator input.sk-toggleable__control:checked~label.sk-toggleable__label {background-color: #d4ebff;}#sk-container-id-2 div.sk-label input.sk-toggleable__control:checked~label.sk-toggleable__label {background-color: #d4ebff;}#sk-container-id-2 input.sk-hidden--visually {border: 0;clip: rect(1px 1px 1px 1px);clip: rect(1px, 1px, 1px, 1px);height: 1px;margin: -1px;overflow: hidden;padding: 0;position: absolute;width: 1px;}#sk-container-id-2 div.sk-estimator {font-family: monospace;background-color: #f0f8ff;border: 1px dotted black;border-radius: 0.25em;box-sizing: border-box;margin-bottom: 0.5em;}#sk-container-id-2 div.sk-estimator:hover {background-color: #d4ebff;}#sk-container-id-2 div.sk-parallel-item::after {content: \"\";width: 100%;border-bottom: 1px solid gray;flex-grow: 1;}#sk-container-id-2 div.sk-label:hover label.sk-toggleable__label {background-color: #d4ebff;}#sk-container-id-2 div.sk-serial::before {content: \"\";position: absolute;border-left: 1px solid gray;box-sizing: border-box;top: 0;bottom: 0;left: 50%;z-index: 0;}#sk-container-id-2 div.sk-serial {display: flex;flex-direction: column;align-items: center;background-color: white;padding-right: 0.2em;padding-left: 0.2em;position: relative;}#sk-container-id-2 div.sk-item {position: relative;z-index: 1;}#sk-container-id-2 div.sk-parallel {display: flex;align-items: stretch;justify-content: center;background-color: white;position: relative;}#sk-container-id-2 div.sk-item::before, #sk-container-id-2 div.sk-parallel-item::before {content: \"\";position: absolute;border-left: 1px solid gray;box-sizing: border-box;top: 0;bottom: 0;left: 50%;z-index: -1;}#sk-container-id-2 div.sk-parallel-item {display: flex;flex-direction: column;z-index: 1;position: relative;background-color: white;}#sk-container-id-2 div.sk-parallel-item:first-child::after {align-self: flex-end;width: 50%;}#sk-container-id-2 div.sk-parallel-item:last-child::after {align-self: flex-start;width: 50%;}#sk-container-id-2 div.sk-parallel-item:only-child::after {width: 0;}#sk-container-id-2 div.sk-dashed-wrapped {border: 1px dashed gray;margin: 0 0.4em 0.5em 0.4em;box-sizing: border-box;padding-bottom: 0.4em;background-color: white;}#sk-container-id-2 div.sk-label label {font-family: monospace;font-weight: bold;display: inline-block;line-height: 1.2em;}#sk-container-id-2 div.sk-label-container {text-align: center;}#sk-container-id-2 div.sk-container {/* jupyter's `normalize.less` sets `[hidden] { display: none; }` but bootstrap.min.css set `[hidden] { display: none !important; }` so we also need the `!important` here to be able to override the default hidden behavior on the sphinx rendered scikit-learn.org. See: https://github.com/scikit-learn/scikit-learn/issues/21755 */display: inline-block !important;position: relative;}#sk-container-id-2 div.sk-text-repr-fallback {display: none;}</style><div id=\"sk-container-id-2\" class=\"sk-top-container\"><div class=\"sk-text-repr-fallback\"><pre>LinearRegression()</pre><b>In a Jupyter environment, please rerun this cell to show the HTML representation or trust the notebook. <br />On GitHub, the HTML representation is unable to render, please try loading this page with nbviewer.org.</b></div><div class=\"sk-container\" hidden><div class=\"sk-item\"><div class=\"sk-estimator sk-toggleable\"><input class=\"sk-toggleable__control sk-hidden--visually\" id=\"sk-estimator-id-2\" type=\"checkbox\" checked><label for=\"sk-estimator-id-2\" class=\"sk-toggleable__label sk-toggleable__label-arrow\">LinearRegression</label><div class=\"sk-toggleable__content\"><pre>LinearRegression()</pre></div></div></div></div></div>"
      ],
      "text/plain": [
       "LinearRegression()"
      ]
     },
     "execution_count": 57,
     "metadata": {},
     "output_type": "execute_result"
    }
   ],
   "source": [
    "lr"
   ]
  },
  {
   "cell_type": "code",
   "execution_count": 59,
   "metadata": {},
   "outputs": [],
   "source": [
    "y_pred=model.predict(x_test)"
   ]
  },
  {
   "cell_type": "code",
   "execution_count": 60,
   "metadata": {},
   "outputs": [
    {
     "data": {
      "text/plain": [
       "array([ 1.63502821e+00, -1.10313209e+00, -1.04728456e+00, -1.93234978e-01,\n",
       "        7.95311629e-01,  9.15364606e-02,  4.47802236e-01, -3.37214208e-01,\n",
       "        2.98787307e-01,  1.25149981e+00, -5.86785357e-01,  4.37311996e-01,\n",
       "       -1.19148634e+00, -5.31559220e-01,  3.64113810e-01, -3.20397098e-01,\n",
       "       -1.26211813e+00, -1.14309734e+00, -6.30663517e-01, -5.63322356e-01,\n",
       "       -1.13340295e-01, -1.40780901e+00,  7.13130592e-01, -1.34192222e+00,\n",
       "        8.92800934e-01, -5.46444245e-01,  3.51352761e-01, -1.17343288e+00,\n",
       "       -6.77145167e-02,  5.00148849e-01,  6.51536475e-01, -3.23091462e-01,\n",
       "       -4.50728688e-01, -8.25263310e-01, -6.23193958e-01,  2.28374422e-01,\n",
       "        4.07373822e-01, -9.49764626e-04,  1.08727677e-01, -1.15373008e+00,\n",
       "       -1.15206153e-01, -1.36584264e-02,  1.54646336e-01, -1.79620677e-01,\n",
       "        1.20582749e-01, -4.69039038e-01, -3.56745710e-02, -7.60863612e-01,\n",
       "        1.29530386e-01,  7.97893198e-01, -9.62417775e-01, -8.31720391e-01,\n",
       "       -5.63057457e-01, -6.93163128e-01, -7.97783279e-01, -4.72156414e-02,\n",
       "       -4.81104069e-01,  9.53383610e-01, -1.04581599e+00, -1.05056436e+00,\n",
       "       -1.83017596e-01,  5.09003768e-01, -4.95392099e-01, -4.21254722e-01,\n",
       "       -6.69680572e-02, -6.55430106e-01,  4.20417733e-02,  1.70094343e-01,\n",
       "       -1.01444426e+00,  1.45832777e-01, -3.46744904e-01, -2.22298982e-01,\n",
       "       -4.56485105e-01, -4.98751149e-01,  1.85115372e-01, -3.44654446e-02,\n",
       "       -4.47261599e-02,  3.52189880e-02,  7.08817790e-01,  4.09317999e-01,\n",
       "        8.07152610e-01,  6.88242283e-01,  8.76531463e-01, -7.77556630e-01,\n",
       "       -1.33664150e+00,  9.08497445e-01, -5.75844921e-01, -7.59689343e-01,\n",
       "       -1.16603982e+00,  2.58018162e-01, -4.58295011e-01, -1.84365964e-01,\n",
       "        5.65044042e-01, -2.38051646e-01, -1.21208346e+00,  1.00040587e+00,\n",
       "       -1.43378407e+00,  1.47610464e+00,  3.49579015e-01, -1.18094910e+00])"
      ]
     },
     "execution_count": 60,
     "metadata": {},
     "output_type": "execute_result"
    }
   ],
   "source": [
    "y_pred"
   ]
  },
  {
   "cell_type": "code",
   "execution_count": 61,
   "metadata": {},
   "outputs": [],
   "source": [
    "mse=mean_squared_error(y_test,y_pred)\n",
    "r2=r2_score(y_test,y_pred)"
   ]
  },
  {
   "cell_type": "code",
   "execution_count": 66,
   "metadata": {},
   "outputs": [
    {
     "name": "stdout",
     "output_type": "stream",
     "text": [
      "mse and r2 scores respectively: 0.09185978729784912 and 0.7611727728808464\n"
     ]
    }
   ],
   "source": [
    "print(f\"mse and r2 scores respectively:\", mse, 'and', r2)"
   ]
  },
  {
   "cell_type": "markdown",
   "metadata": {},
   "source": [
    "Report\n",
    "\n",
    "This dataset is designed to predict taxi trip fares based on various factors such as distance, time of day, traffic conditions, and more. It provides realistic synthetic data for regression tasks, offering a unique opportunity to explore pricing trends in the taxi industry.\n",
    "\n",
    "after analyzing the data, I started data preprocessing from 'filling missing values' using mode and mean by loop, and then 'encoding' with label and one-hot encoder with the help of loop. Lastly, I used StandardScaler for scaling. \n",
    "\n",
    "The next steps were splitting the data and separating predicting value and choosing right model. After splitting the data, I assigned y for taxi_price which is pred value and rest of the data as x. and I chose linearregression model for the project. After validating and testing I got the results. at last I got mse and r2 scores. "
   ]
  },
  {
   "cell_type": "markdown",
   "metadata": {},
   "source": [
    "2-vazifa tuplni list bn qiyoslab ishlatish"
   ]
  },
  {
   "cell_type": "markdown",
   "metadata": {},
   "source": []
  },
  {
   "cell_type": "code",
   "execution_count": null,
   "metadata": {},
   "outputs": [],
   "source": []
  },
  {
   "cell_type": "code",
   "execution_count": null,
   "metadata": {},
   "outputs": [],
   "source": []
  },
  {
   "cell_type": "code",
   "execution_count": null,
   "metadata": {},
   "outputs": [],
   "source": []
  }
 ],
 "metadata": {
  "kernelspec": {
   "display_name": "base",
   "language": "python",
   "name": "python3"
  },
  "language_info": {
   "codemirror_mode": {
    "name": "ipython",
    "version": 3
   },
   "file_extension": ".py",
   "mimetype": "text/x-python",
   "name": "python",
   "nbconvert_exporter": "python",
   "pygments_lexer": "ipython3",
   "version": "3.11.3"
  }
 },
 "nbformat": 4,
 "nbformat_minor": 2
}
